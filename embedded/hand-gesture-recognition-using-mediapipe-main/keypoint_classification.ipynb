{
 "cells": [
  {
   "cell_type": "code",
   "execution_count": 1,
   "metadata": {},
   "outputs": [],
   "source": [
    "import csv\n",
    "\n",
    "import numpy as np\n",
    "import tensorflow as tf\n",
    "from sklearn.model_selection import train_test_split\n",
    "\n",
    "RANDOM_SEED = 42"
   ]
  },
  {
   "cell_type": "markdown",
   "metadata": {},
   "source": [
    "# 各パス指定"
   ]
  },
  {
   "cell_type": "code",
   "execution_count": 2,
   "metadata": {},
   "outputs": [],
   "source": [
    "dataset = 'model/keypoint_classifier/keypoint.csv'\n",
    "model_save_path = 'model/keypoint_classifier/keypoint_classifier.hdf5'"
   ]
  },
  {
   "cell_type": "markdown",
   "metadata": {},
   "source": [
    "# 分類数設定"
   ]
  },
  {
   "cell_type": "code",
   "execution_count": 3,
   "metadata": {},
   "outputs": [],
   "source": [
    "NUM_CLASSES = 4"
   ]
  },
  {
   "cell_type": "markdown",
   "metadata": {},
   "source": [
    "# 学習データ読み込み"
   ]
  },
  {
   "cell_type": "code",
   "execution_count": 4,
   "metadata": {},
   "outputs": [],
   "source": [
    "X_dataset = np.loadtxt(dataset, delimiter=',', dtype='float32', usecols=list(range(1, (21 * 2) + 1)))"
   ]
  },
  {
   "cell_type": "code",
   "execution_count": 5,
   "metadata": {},
   "outputs": [],
   "source": [
    "y_dataset = np.loadtxt(dataset, delimiter=',', dtype='int32', usecols=(0))"
   ]
  },
  {
   "cell_type": "code",
   "execution_count": 6,
   "metadata": {},
   "outputs": [],
   "source": [
    "X_train, X_test, y_train, y_test = train_test_split(X_dataset, y_dataset, train_size=0.75, random_state=RANDOM_SEED)"
   ]
  },
  {
   "cell_type": "markdown",
   "metadata": {},
   "source": [
    "# モデル構築"
   ]
  },
  {
   "cell_type": "code",
   "execution_count": 7,
   "metadata": {},
   "outputs": [],
   "source": [
    "model = tf.keras.models.Sequential([\n",
    "    tf.keras.layers.Input((21 * 2, )),\n",
    "    tf.keras.layers.Dropout(0.2),\n",
    "    tf.keras.layers.Dense(20, activation='relu'),\n",
    "    tf.keras.layers.Dropout(0.4),\n",
    "    tf.keras.layers.Dense(10, activation='relu'),\n",
    "    tf.keras.layers.Dense(NUM_CLASSES, activation='softmax')\n",
    "])"
   ]
  },
  {
   "cell_type": "code",
   "execution_count": 8,
   "metadata": {},
   "outputs": [
    {
     "name": "stdout",
     "output_type": "stream",
     "text": [
      "Model: \"sequential\"\n",
      "_________________________________________________________________\n",
      " Layer (type)                Output Shape              Param #   \n",
      "=================================================================\n",
      " dropout (Dropout)           (None, 42)                0         \n",
      "                                                                 \n",
      " dense (Dense)               (None, 20)                860       \n",
      "                                                                 \n",
      " dropout_1 (Dropout)         (None, 20)                0         \n",
      "                                                                 \n",
      " dense_1 (Dense)             (None, 10)                210       \n",
      "                                                                 \n",
      " dense_2 (Dense)             (None, 4)                 44        \n",
      "                                                                 \n",
      "=================================================================\n",
      "Total params: 1,114\n",
      "Trainable params: 1,114\n",
      "Non-trainable params: 0\n",
      "_________________________________________________________________\n"
     ]
    }
   ],
   "source": [
    "model.summary()  # tf.keras.utils.plot_model(model, show_shapes=True)"
   ]
  },
  {
   "cell_type": "code",
   "execution_count": 9,
   "metadata": {},
   "outputs": [],
   "source": [
    "# モデルチェックポイントのコールバック\n",
    "cp_callback = tf.keras.callbacks.ModelCheckpoint(\n",
    "    model_save_path, verbose=1, save_weights_only=False)\n",
    "# 早期打ち切り用コールバック\n",
    "es_callback = tf.keras.callbacks.EarlyStopping(patience=20, verbose=1)"
   ]
  },
  {
   "cell_type": "code",
   "execution_count": 10,
   "metadata": {},
   "outputs": [],
   "source": [
    "# モデルコンパイル\n",
    "model.compile(\n",
    "    optimizer='adam',\n",
    "    loss='sparse_categorical_crossentropy',\n",
    "    metrics=['accuracy']\n",
    ")"
   ]
  },
  {
   "cell_type": "markdown",
   "metadata": {},
   "source": [
    "# モデル訓練"
   ]
  },
  {
   "cell_type": "code",
   "execution_count": 11,
   "metadata": {
    "scrolled": true
   },
   "outputs": [
    {
     "name": "stdout",
     "output_type": "stream",
     "text": [
      "Epoch 1/1000\n",
      "34/36 [===========================>..] - ETA: 0s - loss: 1.4678 - accuracy: 0.2318 \n",
      "Epoch 00001: saving model to model/keypoint_classifier\\keypoint_classifier.hdf5\n",
      "36/36 [==============================] - 1s 8ms/step - loss: 1.4646 - accuracy: 0.2327 - val_loss: 1.3585 - val_accuracy: 0.3631\n",
      "Epoch 2/1000\n",
      "32/36 [=========================>....] - ETA: 0s - loss: 1.3457 - accuracy: 0.3083\n",
      "Epoch 00002: saving model to model/keypoint_classifier\\keypoint_classifier.hdf5\n",
      "36/36 [==============================] - 0s 3ms/step - loss: 1.3452 - accuracy: 0.3080 - val_loss: 1.2861 - val_accuracy: 0.4157\n",
      "Epoch 3/1000\n",
      "32/36 [=========================>....] - ETA: 0s - loss: 1.3075 - accuracy: 0.3484\n",
      "Epoch 00003: saving model to model/keypoint_classifier\\keypoint_classifier.hdf5\n",
      "36/36 [==============================] - 0s 3ms/step - loss: 1.3057 - accuracy: 0.3498 - val_loss: 1.2413 - val_accuracy: 0.4211\n",
      "Epoch 4/1000\n",
      "33/36 [==========================>...] - ETA: 0s - loss: 1.2719 - accuracy: 0.3778\n",
      "Epoch 00004: saving model to model/keypoint_classifier\\keypoint_classifier.hdf5\n",
      "36/36 [==============================] - 0s 3ms/step - loss: 1.2690 - accuracy: 0.3807 - val_loss: 1.1960 - val_accuracy: 0.4277\n",
      "Epoch 5/1000\n",
      "30/36 [========================>.....] - ETA: 0s - loss: 1.2412 - accuracy: 0.3906\n",
      "Epoch 00005: saving model to model/keypoint_classifier\\keypoint_classifier.hdf5\n",
      "36/36 [==============================] - 0s 4ms/step - loss: 1.2387 - accuracy: 0.3913 - val_loss: 1.1501 - val_accuracy: 0.4524\n",
      "Epoch 6/1000\n",
      "36/36 [==============================] - ETA: 0s - loss: 1.2019 - accuracy: 0.4149\n",
      "Epoch 00006: saving model to model/keypoint_classifier\\keypoint_classifier.hdf5\n",
      "36/36 [==============================] - 0s 3ms/step - loss: 1.2019 - accuracy: 0.4149 - val_loss: 1.1040 - val_accuracy: 0.4903\n",
      "Epoch 7/1000\n",
      "34/36 [===========================>..] - ETA: 0s - loss: 1.1630 - accuracy: 0.4488\n",
      "Epoch 00007: saving model to model/keypoint_classifier\\keypoint_classifier.hdf5\n",
      "36/36 [==============================] - 0s 3ms/step - loss: 1.1622 - accuracy: 0.4489 - val_loss: 1.0559 - val_accuracy: 0.5396\n",
      "Epoch 8/1000\n",
      "34/36 [===========================>..] - ETA: 0s - loss: 1.1308 - accuracy: 0.4713\n",
      "Epoch 00008: saving model to model/keypoint_classifier\\keypoint_classifier.hdf5\n",
      "36/36 [==============================] - 0s 3ms/step - loss: 1.1295 - accuracy: 0.4740 - val_loss: 1.0127 - val_accuracy: 0.6196\n",
      "Epoch 9/1000\n",
      "35/36 [============================>.] - ETA: 0s - loss: 1.0973 - accuracy: 0.5112\n",
      "Epoch 00009: saving model to model/keypoint_classifier\\keypoint_classifier.hdf5\n",
      "36/36 [==============================] - 0s 3ms/step - loss: 1.0969 - accuracy: 0.5113 - val_loss: 0.9647 - val_accuracy: 0.6569\n",
      "Epoch 10/1000\n",
      "36/36 [==============================] - ETA: 0s - loss: 1.0701 - accuracy: 0.5309\n",
      "Epoch 00010: saving model to model/keypoint_classifier\\keypoint_classifier.hdf5\n",
      "36/36 [==============================] - 0s 3ms/step - loss: 1.0701 - accuracy: 0.5309 - val_loss: 0.9145 - val_accuracy: 0.6882\n",
      "Epoch 11/1000\n",
      "34/36 [===========================>..] - ETA: 0s - loss: 1.0214 - accuracy: 0.5591\n",
      "Epoch 00011: saving model to model/keypoint_classifier\\keypoint_classifier.hdf5\n",
      "36/36 [==============================] - 0s 3ms/step - loss: 1.0232 - accuracy: 0.5567 - val_loss: 0.8620 - val_accuracy: 0.7182\n",
      "Epoch 12/1000\n",
      "34/36 [===========================>..] - ETA: 0s - loss: 0.9921 - accuracy: 0.5731\n",
      "Epoch 00012: saving model to model/keypoint_classifier\\keypoint_classifier.hdf5\n",
      "36/36 [==============================] - 0s 3ms/step - loss: 0.9923 - accuracy: 0.5738 - val_loss: 0.8096 - val_accuracy: 0.7488\n",
      "Epoch 13/1000\n",
      "34/36 [===========================>..] - ETA: 0s - loss: 0.9591 - accuracy: 0.5894\n",
      "Epoch 00013: saving model to model/keypoint_classifier\\keypoint_classifier.hdf5\n",
      "36/36 [==============================] - 0s 3ms/step - loss: 0.9568 - accuracy: 0.5913 - val_loss: 0.7561 - val_accuracy: 0.7895\n",
      "Epoch 14/1000\n",
      "34/36 [===========================>..] - ETA: 0s - loss: 0.9380 - accuracy: 0.6071\n",
      "Epoch 00014: saving model to model/keypoint_classifier\\keypoint_classifier.hdf5\n",
      "36/36 [==============================] - 0s 3ms/step - loss: 0.9393 - accuracy: 0.6051 - val_loss: 0.7231 - val_accuracy: 0.8021\n",
      "Epoch 15/1000\n",
      "32/36 [=========================>....] - ETA: 0s - loss: 0.9094 - accuracy: 0.6196\n",
      "Epoch 00015: saving model to model/keypoint_classifier\\keypoint_classifier.hdf5\n",
      "36/36 [==============================] - 0s 3ms/step - loss: 0.9081 - accuracy: 0.6182 - val_loss: 0.6777 - val_accuracy: 0.8268\n",
      "Epoch 16/1000\n",
      "36/36 [==============================] - ETA: 0s - loss: 0.8852 - accuracy: 0.6393\n",
      "Epoch 00016: saving model to model/keypoint_classifier\\keypoint_classifier.hdf5\n",
      "36/36 [==============================] - 0s 3ms/step - loss: 0.8852 - accuracy: 0.6393 - val_loss: 0.6377 - val_accuracy: 0.8414\n",
      "Epoch 17/1000\n",
      "36/36 [==============================] - ETA: 0s - loss: 0.8721 - accuracy: 0.6416\n",
      "Epoch 00017: saving model to model/keypoint_classifier\\keypoint_classifier.hdf5\n",
      "36/36 [==============================] - 0s 3ms/step - loss: 0.8721 - accuracy: 0.6416 - val_loss: 0.6149 - val_accuracy: 0.8528\n",
      "Epoch 18/1000\n",
      "33/36 [==========================>...] - ETA: 0s - loss: 0.8587 - accuracy: 0.6413\n",
      "Epoch 00018: saving model to model/keypoint_classifier\\keypoint_classifier.hdf5\n",
      "36/36 [==============================] - 0s 3ms/step - loss: 0.8574 - accuracy: 0.6420 - val_loss: 0.5854 - val_accuracy: 0.8708\n",
      "Epoch 19/1000\n",
      "33/36 [==========================>...] - ETA: 0s - loss: 0.8322 - accuracy: 0.6631\n",
      "Epoch 00019: saving model to model/keypoint_classifier\\keypoint_classifier.hdf5\n",
      "36/36 [==============================] - 0s 4ms/step - loss: 0.8275 - accuracy: 0.6656 - val_loss: 0.5580 - val_accuracy: 0.8881\n",
      "Epoch 20/1000\n",
      "31/36 [========================>.....] - ETA: 0s - loss: 0.8110 - accuracy: 0.6782\n",
      "Epoch 00020: saving model to model/keypoint_classifier\\keypoint_classifier.hdf5\n",
      "36/36 [==============================] - 0s 3ms/step - loss: 0.8137 - accuracy: 0.6736 - val_loss: 0.5356 - val_accuracy: 0.8901\n",
      "Epoch 21/1000\n",
      "27/36 [=====================>........] - ETA: 0s - loss: 0.7999 - accuracy: 0.6889\n",
      "Epoch 00021: saving model to model/keypoint_classifier\\keypoint_classifier.hdf5\n",
      "36/36 [==============================] - 0s 3ms/step - loss: 0.8012 - accuracy: 0.6893 - val_loss: 0.5081 - val_accuracy: 0.9054\n",
      "Epoch 22/1000\n",
      "34/36 [===========================>..] - ETA: 0s - loss: 0.7811 - accuracy: 0.6896\n",
      "Epoch 00022: saving model to model/keypoint_classifier\\keypoint_classifier.hdf5\n",
      "36/36 [==============================] - 0s 3ms/step - loss: 0.7795 - accuracy: 0.6902 - val_loss: 0.4836 - val_accuracy: 0.9134\n",
      "Epoch 23/1000\n",
      "31/36 [========================>.....] - ETA: 0s - loss: 0.7708 - accuracy: 0.6890\n",
      "Epoch 00023: saving model to model/keypoint_classifier\\keypoint_classifier.hdf5\n",
      "36/36 [==============================] - 0s 3ms/step - loss: 0.7706 - accuracy: 0.6904 - val_loss: 0.4646 - val_accuracy: 0.9254\n",
      "Epoch 24/1000\n",
      "34/36 [===========================>..] - ETA: 0s - loss: 0.7612 - accuracy: 0.7034\n",
      "Epoch 00024: saving model to model/keypoint_classifier\\keypoint_classifier.hdf5\n",
      "36/36 [==============================] - 0s 3ms/step - loss: 0.7591 - accuracy: 0.7049 - val_loss: 0.4468 - val_accuracy: 0.9274\n",
      "Epoch 25/1000\n",
      "35/36 [============================>.] - ETA: 0s - loss: 0.7321 - accuracy: 0.7167\n",
      "Epoch 00025: saving model to model/keypoint_classifier\\keypoint_classifier.hdf5\n",
      "36/36 [==============================] - 0s 3ms/step - loss: 0.7320 - accuracy: 0.7167 - val_loss: 0.4316 - val_accuracy: 0.9267\n",
      "Epoch 26/1000\n",
      "34/36 [===========================>..] - ETA: 0s - loss: 0.7308 - accuracy: 0.7112\n",
      "Epoch 00026: saving model to model/keypoint_classifier\\keypoint_classifier.hdf5\n",
      "36/36 [==============================] - 0s 3ms/step - loss: 0.7313 - accuracy: 0.7118 - val_loss: 0.4220 - val_accuracy: 0.9274\n",
      "Epoch 27/1000\n",
      "29/36 [=======================>......] - ETA: 0s - loss: 0.7468 - accuracy: 0.7099\n",
      "Epoch 00027: saving model to model/keypoint_classifier\\keypoint_classifier.hdf5\n",
      "36/36 [==============================] - 0s 3ms/step - loss: 0.7338 - accuracy: 0.7151 - val_loss: 0.4099 - val_accuracy: 0.9274\n"
     ]
    },
    {
     "name": "stdout",
     "output_type": "stream",
     "text": [
      "Epoch 28/1000\n",
      "31/36 [========================>.....] - ETA: 0s - loss: 0.7078 - accuracy: 0.7245\n",
      "Epoch 00028: saving model to model/keypoint_classifier\\keypoint_classifier.hdf5\n",
      "36/36 [==============================] - 0s 3ms/step - loss: 0.7067 - accuracy: 0.7249 - val_loss: 0.3932 - val_accuracy: 0.9287\n",
      "Epoch 29/1000\n",
      "35/36 [============================>.] - ETA: 0s - loss: 0.7195 - accuracy: 0.7141\n",
      "Epoch 00029: saving model to model/keypoint_classifier\\keypoint_classifier.hdf5\n",
      "36/36 [==============================] - 0s 3ms/step - loss: 0.7190 - accuracy: 0.7142 - val_loss: 0.3868 - val_accuracy: 0.9314\n",
      "Epoch 30/1000\n",
      "35/36 [============================>.] - ETA: 0s - loss: 0.7029 - accuracy: 0.7208\n",
      "Epoch 00030: saving model to model/keypoint_classifier\\keypoint_classifier.hdf5\n",
      "36/36 [==============================] - 0s 3ms/step - loss: 0.7021 - accuracy: 0.7213 - val_loss: 0.3793 - val_accuracy: 0.9274\n",
      "Epoch 31/1000\n",
      "36/36 [==============================] - ETA: 0s - loss: 0.6922 - accuracy: 0.7404\n",
      "Epoch 00031: saving model to model/keypoint_classifier\\keypoint_classifier.hdf5\n",
      "36/36 [==============================] - 0s 3ms/step - loss: 0.6922 - accuracy: 0.7404 - val_loss: 0.3677 - val_accuracy: 0.9347\n",
      "Epoch 32/1000\n",
      "34/36 [===========================>..] - ETA: 0s - loss: 0.6774 - accuracy: 0.7289\n",
      "Epoch 00032: saving model to model/keypoint_classifier\\keypoint_classifier.hdf5\n",
      "36/36 [==============================] - 0s 3ms/step - loss: 0.6754 - accuracy: 0.7296 - val_loss: 0.3578 - val_accuracy: 0.9327\n",
      "Epoch 33/1000\n",
      " 1/36 [..............................] - ETA: 0s - loss: 0.5949 - accuracy: 0.7578\n",
      "Epoch 00033: saving model to model/keypoint_classifier\\keypoint_classifier.hdf5\n",
      "36/36 [==============================] - 0s 3ms/step - loss: 0.6750 - accuracy: 0.7351 - val_loss: 0.3526 - val_accuracy: 0.9340\n",
      "Epoch 34/1000\n",
      "33/36 [==========================>...] - ETA: 0s - loss: 0.6795 - accuracy: 0.7322\n",
      "Epoch 00034: saving model to model/keypoint_classifier\\keypoint_classifier.hdf5\n",
      "36/36 [==============================] - 0s 4ms/step - loss: 0.6824 - accuracy: 0.7353 - val_loss: 0.3485 - val_accuracy: 0.9354\n",
      "Epoch 35/1000\n",
      "35/36 [============================>.] - ETA: 0s - loss: 0.6769 - accuracy: 0.7366\n",
      "Epoch 00035: saving model to model/keypoint_classifier\\keypoint_classifier.hdf5\n",
      "36/36 [==============================] - 0s 3ms/step - loss: 0.6770 - accuracy: 0.7364 - val_loss: 0.3441 - val_accuracy: 0.9380\n",
      "Epoch 36/1000\n",
      "35/36 [============================>.] - ETA: 0s - loss: 0.6698 - accuracy: 0.7435\n",
      "Epoch 00036: saving model to model/keypoint_classifier\\keypoint_classifier.hdf5\n",
      "36/36 [==============================] - 0s 3ms/step - loss: 0.6691 - accuracy: 0.7440 - val_loss: 0.3361 - val_accuracy: 0.9334\n",
      "Epoch 37/1000\n",
      "33/36 [==========================>...] - ETA: 0s - loss: 0.6333 - accuracy: 0.7540\n",
      "Epoch 00037: saving model to model/keypoint_classifier\\keypoint_classifier.hdf5\n",
      "36/36 [==============================] - 0s 3ms/step - loss: 0.6349 - accuracy: 0.7533 - val_loss: 0.3310 - val_accuracy: 0.9347\n",
      "Epoch 38/1000\n",
      "36/36 [==============================] - ETA: 0s - loss: 0.6557 - accuracy: 0.7458\n",
      "Epoch 00038: saving model to model/keypoint_classifier\\keypoint_classifier.hdf5\n",
      "36/36 [==============================] - 0s 3ms/step - loss: 0.6557 - accuracy: 0.7458 - val_loss: 0.3304 - val_accuracy: 0.9400\n",
      "Epoch 39/1000\n",
      "35/36 [============================>.] - ETA: 0s - loss: 0.6404 - accuracy: 0.7446\n",
      "Epoch 00039: saving model to model/keypoint_classifier\\keypoint_classifier.hdf5\n",
      "36/36 [==============================] - 0s 3ms/step - loss: 0.6391 - accuracy: 0.7456 - val_loss: 0.3228 - val_accuracy: 0.9360\n",
      "Epoch 40/1000\n",
      "36/36 [==============================] - ETA: 0s - loss: 0.6275 - accuracy: 0.7591\n",
      "Epoch 00040: saving model to model/keypoint_classifier\\keypoint_classifier.hdf5\n",
      "36/36 [==============================] - 0s 3ms/step - loss: 0.6275 - accuracy: 0.7591 - val_loss: 0.3143 - val_accuracy: 0.9347\n",
      "Epoch 41/1000\n",
      " 1/36 [..............................] - ETA: 0s - loss: 0.5710 - accuracy: 0.7734\n",
      "Epoch 00041: saving model to model/keypoint_classifier\\keypoint_classifier.hdf5\n",
      "36/36 [==============================] - 0s 3ms/step - loss: 0.6353 - accuracy: 0.7547 - val_loss: 0.3126 - val_accuracy: 0.9420\n",
      "Epoch 42/1000\n",
      "30/36 [========================>.....] - ETA: 0s - loss: 0.6386 - accuracy: 0.7508\n",
      "Epoch 00042: saving model to model/keypoint_classifier\\keypoint_classifier.hdf5\n",
      "36/36 [==============================] - 0s 3ms/step - loss: 0.6382 - accuracy: 0.7518 - val_loss: 0.3131 - val_accuracy: 0.9440\n",
      "Epoch 43/1000\n",
      "36/36 [==============================] - ETA: 0s - loss: 0.6459 - accuracy: 0.7504\n",
      "Epoch 00043: saving model to model/keypoint_classifier\\keypoint_classifier.hdf5\n",
      "36/36 [==============================] - 0s 3ms/step - loss: 0.6459 - accuracy: 0.7504 - val_loss: 0.3126 - val_accuracy: 0.9420\n",
      "Epoch 44/1000\n",
      "34/36 [===========================>..] - ETA: 0s - loss: 0.6187 - accuracy: 0.7638\n",
      "Epoch 00044: saving model to model/keypoint_classifier\\keypoint_classifier.hdf5\n",
      "36/36 [==============================] - 0s 3ms/step - loss: 0.6193 - accuracy: 0.7642 - val_loss: 0.3062 - val_accuracy: 0.9420\n",
      "Epoch 45/1000\n",
      "33/36 [==========================>...] - ETA: 0s - loss: 0.6107 - accuracy: 0.7680\n",
      "Epoch 00045: saving model to model/keypoint_classifier\\keypoint_classifier.hdf5\n",
      "36/36 [==============================] - 0s 3ms/step - loss: 0.6064 - accuracy: 0.7691 - val_loss: 0.2994 - val_accuracy: 0.9447\n",
      "Epoch 46/1000\n",
      "32/36 [=========================>....] - ETA: 0s - loss: 0.6058 - accuracy: 0.7659\n",
      "Epoch 00046: saving model to model/keypoint_classifier\\keypoint_classifier.hdf5\n",
      "36/36 [==============================] - 0s 3ms/step - loss: 0.6079 - accuracy: 0.7633 - val_loss: 0.3041 - val_accuracy: 0.9394\n",
      "Epoch 47/1000\n",
      "34/36 [===========================>..] - ETA: 0s - loss: 0.6262 - accuracy: 0.7576\n",
      "Epoch 00047: saving model to model/keypoint_classifier\\keypoint_classifier.hdf5\n",
      "36/36 [==============================] - 0s 3ms/step - loss: 0.6230 - accuracy: 0.7582 - val_loss: 0.2933 - val_accuracy: 0.9407\n",
      "Epoch 48/1000\n",
      "34/36 [===========================>..] - ETA: 0s - loss: 0.6122 - accuracy: 0.7585\n",
      "Epoch 00048: saving model to model/keypoint_classifier\\keypoint_classifier.hdf5\n",
      "36/36 [==============================] - 0s 3ms/step - loss: 0.6126 - accuracy: 0.7596 - val_loss: 0.2962 - val_accuracy: 0.9387\n",
      "Epoch 49/1000\n",
      "29/36 [=======================>......] - ETA: 0s - loss: 0.6185 - accuracy: 0.7627\n",
      "Epoch 00049: saving model to model/keypoint_classifier\\keypoint_classifier.hdf5\n",
      "36/36 [==============================] - 0s 4ms/step - loss: 0.6126 - accuracy: 0.7636 - val_loss: 0.2927 - val_accuracy: 0.9427\n",
      "Epoch 50/1000\n",
      "35/36 [============================>.] - ETA: 0s - loss: 0.5937 - accuracy: 0.7761\n",
      "Epoch 00050: saving model to model/keypoint_classifier\\keypoint_classifier.hdf5\n",
      "36/36 [==============================] - 0s 3ms/step - loss: 0.5936 - accuracy: 0.7762 - val_loss: 0.2873 - val_accuracy: 0.9460\n",
      "Epoch 51/1000\n",
      "36/36 [==============================] - ETA: 0s - loss: 0.6067 - accuracy: 0.7640\n",
      "Epoch 00051: saving model to model/keypoint_classifier\\keypoint_classifier.hdf5\n",
      "36/36 [==============================] - 0s 3ms/step - loss: 0.6067 - accuracy: 0.7640 - val_loss: 0.2868 - val_accuracy: 0.9480\n",
      "Epoch 52/1000\n",
      "36/36 [==============================] - ETA: 0s - loss: 0.5885 - accuracy: 0.7736\n",
      "Epoch 00052: saving model to model/keypoint_classifier\\keypoint_classifier.hdf5\n",
      "36/36 [==============================] - 0s 3ms/step - loss: 0.5885 - accuracy: 0.7736 - val_loss: 0.2813 - val_accuracy: 0.9474\n",
      "Epoch 53/1000\n",
      "34/36 [===========================>..] - ETA: 0s - loss: 0.6157 - accuracy: 0.7649\n",
      "Epoch 00053: saving model to model/keypoint_classifier\\keypoint_classifier.hdf5\n",
      "36/36 [==============================] - 0s 3ms/step - loss: 0.6153 - accuracy: 0.7658 - val_loss: 0.2847 - val_accuracy: 0.9394\n",
      "Epoch 54/1000\n",
      "36/36 [==============================] - ETA: 0s - loss: 0.5999 - accuracy: 0.7671\n",
      "Epoch 00054: saving model to model/keypoint_classifier\\keypoint_classifier.hdf5\n",
      "36/36 [==============================] - 0s 3ms/step - loss: 0.5999 - accuracy: 0.7671 - val_loss: 0.2873 - val_accuracy: 0.9407\n"
     ]
    },
    {
     "name": "stdout",
     "output_type": "stream",
     "text": [
      "Epoch 55/1000\n",
      "33/36 [==========================>...] - ETA: 0s - loss: 0.6124 - accuracy: 0.7623\n",
      "Epoch 00055: saving model to model/keypoint_classifier\\keypoint_classifier.hdf5\n",
      "36/36 [==============================] - 0s 3ms/step - loss: 0.6130 - accuracy: 0.7607 - val_loss: 0.2854 - val_accuracy: 0.9454\n",
      "Epoch 56/1000\n",
      "34/36 [===========================>..] - ETA: 0s - loss: 0.5815 - accuracy: 0.7771\n",
      "Epoch 00056: saving model to model/keypoint_classifier\\keypoint_classifier.hdf5\n",
      "36/36 [==============================] - 0s 3ms/step - loss: 0.5842 - accuracy: 0.7753 - val_loss: 0.2789 - val_accuracy: 0.9474\n",
      "Epoch 57/1000\n",
      " 1/36 [..............................] - ETA: 0s - loss: 0.5405 - accuracy: 0.7812\n",
      "Epoch 00057: saving model to model/keypoint_classifier\\keypoint_classifier.hdf5\n",
      "36/36 [==============================] - 0s 3ms/step - loss: 0.5814 - accuracy: 0.7764 - val_loss: 0.2828 - val_accuracy: 0.9480\n",
      "Epoch 58/1000\n",
      "35/36 [============================>.] - ETA: 0s - loss: 0.5886 - accuracy: 0.7721\n",
      "Epoch 00058: saving model to model/keypoint_classifier\\keypoint_classifier.hdf5\n",
      "36/36 [==============================] - 0s 3ms/step - loss: 0.5894 - accuracy: 0.7720 - val_loss: 0.2805 - val_accuracy: 0.9420\n",
      "Epoch 59/1000\n",
      "33/36 [==========================>...] - ETA: 0s - loss: 0.5764 - accuracy: 0.7753\n",
      "Epoch 00059: saving model to model/keypoint_classifier\\keypoint_classifier.hdf5\n",
      "36/36 [==============================] - 0s 3ms/step - loss: 0.5778 - accuracy: 0.7751 - val_loss: 0.2775 - val_accuracy: 0.9467\n",
      "Epoch 60/1000\n",
      "36/36 [==============================] - ETA: 0s - loss: 0.5815 - accuracy: 0.7784\n",
      "Epoch 00060: saving model to model/keypoint_classifier\\keypoint_classifier.hdf5\n",
      "36/36 [==============================] - 0s 3ms/step - loss: 0.5815 - accuracy: 0.7784 - val_loss: 0.2738 - val_accuracy: 0.9520\n",
      "Epoch 61/1000\n",
      "35/36 [============================>.] - ETA: 0s - loss: 0.5917 - accuracy: 0.7752\n",
      "Epoch 00061: saving model to model/keypoint_classifier\\keypoint_classifier.hdf5\n",
      "36/36 [==============================] - 0s 3ms/step - loss: 0.5909 - accuracy: 0.7756 - val_loss: 0.2817 - val_accuracy: 0.9540\n",
      "Epoch 62/1000\n",
      "36/36 [==============================] - ETA: 0s - loss: 0.5712 - accuracy: 0.7838\n",
      "Epoch 00062: saving model to model/keypoint_classifier\\keypoint_classifier.hdf5\n",
      "36/36 [==============================] - 0s 3ms/step - loss: 0.5712 - accuracy: 0.7838 - val_loss: 0.2607 - val_accuracy: 0.9527\n",
      "Epoch 63/1000\n",
      "31/36 [========================>.....] - ETA: 0s - loss: 0.5522 - accuracy: 0.7944\n",
      "Epoch 00063: saving model to model/keypoint_classifier\\keypoint_classifier.hdf5\n",
      "36/36 [==============================] - 0s 3ms/step - loss: 0.5607 - accuracy: 0.7867 - val_loss: 0.2643 - val_accuracy: 0.9560\n",
      "Epoch 64/1000\n",
      "30/36 [========================>.....] - ETA: 0s - loss: 0.5575 - accuracy: 0.7859\n",
      "Epoch 00064: saving model to model/keypoint_classifier\\keypoint_classifier.hdf5\n",
      "36/36 [==============================] - 0s 3ms/step - loss: 0.5590 - accuracy: 0.7842 - val_loss: 0.2602 - val_accuracy: 0.9547\n",
      "Epoch 65/1000\n",
      " 1/36 [..............................] - ETA: 0s - loss: 0.6231 - accuracy: 0.7578\n",
      "Epoch 00065: saving model to model/keypoint_classifier\\keypoint_classifier.hdf5\n",
      "36/36 [==============================] - 0s 3ms/step - loss: 0.5965 - accuracy: 0.7740 - val_loss: 0.2674 - val_accuracy: 0.9554\n",
      "Epoch 66/1000\n",
      "36/36 [==============================] - ETA: 0s - loss: 0.5785 - accuracy: 0.7789\n",
      "Epoch 00066: saving model to model/keypoint_classifier\\keypoint_classifier.hdf5\n",
      "36/36 [==============================] - 0s 3ms/step - loss: 0.5785 - accuracy: 0.7789 - val_loss: 0.2646 - val_accuracy: 0.9534\n",
      "Epoch 67/1000\n",
      "34/36 [===========================>..] - ETA: 0s - loss: 0.5700 - accuracy: 0.7895\n",
      "Epoch 00067: saving model to model/keypoint_classifier\\keypoint_classifier.hdf5\n",
      "36/36 [==============================] - 0s 3ms/step - loss: 0.5671 - accuracy: 0.7891 - val_loss: 0.2733 - val_accuracy: 0.9567\n",
      "Epoch 68/1000\n",
      "34/36 [===========================>..] - ETA: 0s - loss: 0.5642 - accuracy: 0.7801\n",
      "Epoch 00068: saving model to model/keypoint_classifier\\keypoint_classifier.hdf5\n",
      "36/36 [==============================] - 0s 3ms/step - loss: 0.5650 - accuracy: 0.7793 - val_loss: 0.2672 - val_accuracy: 0.9580\n",
      "Epoch 69/1000\n",
      "33/36 [==========================>...] - ETA: 0s - loss: 0.5556 - accuracy: 0.7884\n",
      "Epoch 00069: saving model to model/keypoint_classifier\\keypoint_classifier.hdf5\n",
      "36/36 [==============================] - 0s 3ms/step - loss: 0.5574 - accuracy: 0.7864 - val_loss: 0.2583 - val_accuracy: 0.9580\n",
      "Epoch 70/1000\n",
      "35/36 [============================>.] - ETA: 0s - loss: 0.5664 - accuracy: 0.7862\n",
      "Epoch 00070: saving model to model/keypoint_classifier\\keypoint_classifier.hdf5\n",
      "36/36 [==============================] - 0s 3ms/step - loss: 0.5664 - accuracy: 0.7864 - val_loss: 0.2686 - val_accuracy: 0.9547\n",
      "Epoch 71/1000\n",
      "32/36 [=========================>....] - ETA: 0s - loss: 0.5648 - accuracy: 0.7922\n",
      "Epoch 00071: saving model to model/keypoint_classifier\\keypoint_classifier.hdf5\n",
      "36/36 [==============================] - 0s 3ms/step - loss: 0.5667 - accuracy: 0.7913 - val_loss: 0.2663 - val_accuracy: 0.9554\n",
      "Epoch 72/1000\n",
      "33/36 [==========================>...] - ETA: 0s - loss: 0.5623 - accuracy: 0.7857\n",
      "Epoch 00072: saving model to model/keypoint_classifier\\keypoint_classifier.hdf5\n",
      "36/36 [==============================] - 0s 3ms/step - loss: 0.5610 - accuracy: 0.7860 - val_loss: 0.2619 - val_accuracy: 0.9600\n",
      "Epoch 73/1000\n",
      "35/36 [============================>.] - ETA: 0s - loss: 0.5603 - accuracy: 0.7848\n",
      "Epoch 00073: saving model to model/keypoint_classifier\\keypoint_classifier.hdf5\n",
      "36/36 [==============================] - 0s 3ms/step - loss: 0.5607 - accuracy: 0.7847 - val_loss: 0.2640 - val_accuracy: 0.9634\n",
      "Epoch 74/1000\n",
      "32/36 [=========================>....] - ETA: 0s - loss: 0.5670 - accuracy: 0.7876\n",
      "Epoch 00074: saving model to model/keypoint_classifier\\keypoint_classifier.hdf5\n",
      "36/36 [==============================] - 0s 3ms/step - loss: 0.5633 - accuracy: 0.7887 - val_loss: 0.2558 - val_accuracy: 0.9647\n",
      "Epoch 75/1000\n",
      "36/36 [==============================] - ETA: 0s - loss: 0.5609 - accuracy: 0.7884\n",
      "Epoch 00075: saving model to model/keypoint_classifier\\keypoint_classifier.hdf5\n",
      "36/36 [==============================] - 0s 3ms/step - loss: 0.5609 - accuracy: 0.7884 - val_loss: 0.2632 - val_accuracy: 0.9594\n",
      "Epoch 76/1000\n",
      "34/36 [===========================>..] - ETA: 0s - loss: 0.5512 - accuracy: 0.7934\n",
      "Epoch 00076: saving model to model/keypoint_classifier\\keypoint_classifier.hdf5\n",
      "36/36 [==============================] - 0s 3ms/step - loss: 0.5484 - accuracy: 0.7944 - val_loss: 0.2558 - val_accuracy: 0.9607\n",
      "Epoch 77/1000\n",
      "35/36 [============================>.] - ETA: 0s - loss: 0.5496 - accuracy: 0.7893\n",
      "Epoch 00077: saving model to model/keypoint_classifier\\keypoint_classifier.hdf5\n",
      "36/36 [==============================] - 0s 3ms/step - loss: 0.5495 - accuracy: 0.7891 - val_loss: 0.2595 - val_accuracy: 0.9620\n",
      "Epoch 78/1000\n",
      "29/36 [=======================>......] - ETA: 0s - loss: 0.5399 - accuracy: 0.7885\n",
      "Epoch 00078: saving model to model/keypoint_classifier\\keypoint_classifier.hdf5\n",
      "36/36 [==============================] - 0s 4ms/step - loss: 0.5484 - accuracy: 0.7862 - val_loss: 0.2604 - val_accuracy: 0.9640\n",
      "Epoch 79/1000\n",
      "26/36 [====================>.........] - ETA: 0s - loss: 0.5659 - accuracy: 0.7822\n",
      "Epoch 00079: saving model to model/keypoint_classifier\\keypoint_classifier.hdf5\n",
      "36/36 [==============================] - 0s 4ms/step - loss: 0.5599 - accuracy: 0.7822 - val_loss: 0.2640 - val_accuracy: 0.9600\n",
      "Epoch 80/1000\n",
      "28/36 [======================>.......] - ETA: 0s - loss: 0.5434 - accuracy: 0.7840\n",
      "Epoch 00080: saving model to model/keypoint_classifier\\keypoint_classifier.hdf5\n",
      "36/36 [==============================] - 0s 4ms/step - loss: 0.5540 - accuracy: 0.7816 - val_loss: 0.2659 - val_accuracy: 0.9594\n",
      "Epoch 81/1000\n",
      "29/36 [=======================>......] - ETA: 0s - loss: 0.5715 - accuracy: 0.7756\n",
      "Epoch 00081: saving model to model/keypoint_classifier\\keypoint_classifier.hdf5\n",
      "36/36 [==============================] - 0s 4ms/step - loss: 0.5584 - accuracy: 0.7807 - val_loss: 0.2711 - val_accuracy: 0.9620\n"
     ]
    },
    {
     "name": "stdout",
     "output_type": "stream",
     "text": [
      "Epoch 82/1000\n",
      "27/36 [=====================>........] - ETA: 0s - loss: 0.5579 - accuracy: 0.7975\n",
      "Epoch 00082: saving model to model/keypoint_classifier\\keypoint_classifier.hdf5\n",
      "36/36 [==============================] - 0s 4ms/step - loss: 0.5529 - accuracy: 0.7951 - val_loss: 0.2554 - val_accuracy: 0.9680\n",
      "Epoch 83/1000\n",
      "27/36 [=====================>........] - ETA: 0s - loss: 0.5359 - accuracy: 0.7896\n",
      "Epoch 00083: saving model to model/keypoint_classifier\\keypoint_classifier.hdf5\n",
      "36/36 [==============================] - 0s 4ms/step - loss: 0.5399 - accuracy: 0.7900 - val_loss: 0.2565 - val_accuracy: 0.9634\n",
      "Epoch 84/1000\n",
      "29/36 [=======================>......] - ETA: 0s - loss: 0.5464 - accuracy: 0.7931\n",
      "Epoch 00084: saving model to model/keypoint_classifier\\keypoint_classifier.hdf5\n",
      "36/36 [==============================] - 0s 4ms/step - loss: 0.5496 - accuracy: 0.7896 - val_loss: 0.2522 - val_accuracy: 0.9647\n",
      "Epoch 85/1000\n",
      "33/36 [==========================>...] - ETA: 0s - loss: 0.5424 - accuracy: 0.7919\n",
      "Epoch 00085: saving model to model/keypoint_classifier\\keypoint_classifier.hdf5\n",
      "36/36 [==============================] - 0s 3ms/step - loss: 0.5443 - accuracy: 0.7918 - val_loss: 0.2446 - val_accuracy: 0.9694\n",
      "Epoch 86/1000\n",
      " 1/36 [..............................] - ETA: 0s - loss: 0.5220 - accuracy: 0.7656\n",
      "Epoch 00086: saving model to model/keypoint_classifier\\keypoint_classifier.hdf5\n",
      "36/36 [==============================] - 0s 3ms/step - loss: 0.5415 - accuracy: 0.7924 - val_loss: 0.2461 - val_accuracy: 0.9627\n",
      "Epoch 87/1000\n",
      " 1/36 [..............................] - ETA: 0s - loss: 0.6208 - accuracy: 0.7578\n",
      "Epoch 00087: saving model to model/keypoint_classifier\\keypoint_classifier.hdf5\n",
      "36/36 [==============================] - 0s 3ms/step - loss: 0.5507 - accuracy: 0.7824 - val_loss: 0.2533 - val_accuracy: 0.9640\n",
      "Epoch 88/1000\n",
      "36/36 [==============================] - ETA: 0s - loss: 0.5391 - accuracy: 0.7873\n",
      "Epoch 00088: saving model to model/keypoint_classifier\\keypoint_classifier.hdf5\n",
      "36/36 [==============================] - 0s 3ms/step - loss: 0.5391 - accuracy: 0.7873 - val_loss: 0.2510 - val_accuracy: 0.9680\n",
      "Epoch 89/1000\n",
      "35/36 [============================>.] - ETA: 0s - loss: 0.5339 - accuracy: 0.7962\n",
      "Epoch 00089: saving model to model/keypoint_classifier\\keypoint_classifier.hdf5\n",
      "36/36 [==============================] - 0s 3ms/step - loss: 0.5338 - accuracy: 0.7962 - val_loss: 0.2483 - val_accuracy: 0.9680\n",
      "Epoch 90/1000\n",
      "32/36 [=========================>....] - ETA: 0s - loss: 0.5226 - accuracy: 0.8054\n",
      "Epoch 00090: saving model to model/keypoint_classifier\\keypoint_classifier.hdf5\n",
      "36/36 [==============================] - 0s 3ms/step - loss: 0.5202 - accuracy: 0.8053 - val_loss: 0.2439 - val_accuracy: 0.9667\n",
      "Epoch 91/1000\n",
      "36/36 [==============================] - ETA: 0s - loss: 0.5413 - accuracy: 0.7936\n",
      "Epoch 00091: saving model to model/keypoint_classifier\\keypoint_classifier.hdf5\n",
      "36/36 [==============================] - 0s 3ms/step - loss: 0.5413 - accuracy: 0.7936 - val_loss: 0.2496 - val_accuracy: 0.9660\n",
      "Epoch 92/1000\n",
      "31/36 [========================>.....] - ETA: 0s - loss: 0.5480 - accuracy: 0.7825\n",
      "Epoch 00092: saving model to model/keypoint_classifier\\keypoint_classifier.hdf5\n",
      "36/36 [==============================] - 0s 3ms/step - loss: 0.5474 - accuracy: 0.7829 - val_loss: 0.2511 - val_accuracy: 0.9674\n",
      "Epoch 93/1000\n",
      "35/36 [============================>.] - ETA: 0s - loss: 0.5254 - accuracy: 0.8058\n",
      "Epoch 00093: saving model to model/keypoint_classifier\\keypoint_classifier.hdf5\n",
      "36/36 [==============================] - 0s 3ms/step - loss: 0.5262 - accuracy: 0.8053 - val_loss: 0.2433 - val_accuracy: 0.9634\n",
      "Epoch 94/1000\n",
      "34/36 [===========================>..] - ETA: 0s - loss: 0.5204 - accuracy: 0.7955\n",
      "Epoch 00094: saving model to model/keypoint_classifier\\keypoint_classifier.hdf5\n",
      "36/36 [==============================] - 0s 3ms/step - loss: 0.5188 - accuracy: 0.7960 - val_loss: 0.2503 - val_accuracy: 0.9640\n",
      "Epoch 95/1000\n",
      "34/36 [===========================>..] - ETA: 0s - loss: 0.5322 - accuracy: 0.7971\n",
      "Epoch 00095: saving model to model/keypoint_classifier\\keypoint_classifier.hdf5\n",
      "36/36 [==============================] - 0s 3ms/step - loss: 0.5326 - accuracy: 0.7960 - val_loss: 0.2470 - val_accuracy: 0.9660\n",
      "Epoch 96/1000\n",
      " 1/36 [..............................] - ETA: 0s - loss: 0.4340 - accuracy: 0.8281\n",
      "Epoch 00096: saving model to model/keypoint_classifier\\keypoint_classifier.hdf5\n",
      "36/36 [==============================] - 0s 3ms/step - loss: 0.5244 - accuracy: 0.7984 - val_loss: 0.2511 - val_accuracy: 0.9640\n",
      "Epoch 97/1000\n",
      "34/36 [===========================>..] - ETA: 0s - loss: 0.5315 - accuracy: 0.7939\n",
      "Epoch 00097: saving model to model/keypoint_classifier\\keypoint_classifier.hdf5\n",
      "36/36 [==============================] - 0s 3ms/step - loss: 0.5314 - accuracy: 0.7931 - val_loss: 0.2399 - val_accuracy: 0.9687\n",
      "Epoch 98/1000\n",
      "33/36 [==========================>...] - ETA: 0s - loss: 0.5194 - accuracy: 0.8026\n",
      "Epoch 00098: saving model to model/keypoint_classifier\\keypoint_classifier.hdf5\n",
      "36/36 [==============================] - 0s 3ms/step - loss: 0.5227 - accuracy: 0.8002 - val_loss: 0.2436 - val_accuracy: 0.9667\n",
      "Epoch 99/1000\n",
      "32/36 [=========================>....] - ETA: 0s - loss: 0.5100 - accuracy: 0.8074\n",
      "Epoch 00099: saving model to model/keypoint_classifier\\keypoint_classifier.hdf5\n",
      "36/36 [==============================] - 0s 3ms/step - loss: 0.5171 - accuracy: 0.8056 - val_loss: 0.2382 - val_accuracy: 0.9687\n",
      "Epoch 100/1000\n",
      "34/36 [===========================>..] - ETA: 0s - loss: 0.5214 - accuracy: 0.7973\n",
      "Epoch 00100: saving model to model/keypoint_classifier\\keypoint_classifier.hdf5\n",
      "36/36 [==============================] - 0s 3ms/step - loss: 0.5213 - accuracy: 0.7969 - val_loss: 0.2506 - val_accuracy: 0.9654\n",
      "Epoch 101/1000\n",
      "34/36 [===========================>..] - ETA: 0s - loss: 0.5211 - accuracy: 0.7996\n",
      "Epoch 00101: saving model to model/keypoint_classifier\\keypoint_classifier.hdf5\n",
      "36/36 [==============================] - 0s 3ms/step - loss: 0.5256 - accuracy: 0.7991 - val_loss: 0.2452 - val_accuracy: 0.9660\n",
      "Epoch 102/1000\n",
      "34/36 [===========================>..] - ETA: 0s - loss: 0.5296 - accuracy: 0.7930\n",
      "Epoch 00102: saving model to model/keypoint_classifier\\keypoint_classifier.hdf5\n",
      "36/36 [==============================] - 0s 3ms/step - loss: 0.5301 - accuracy: 0.7924 - val_loss: 0.2461 - val_accuracy: 0.9694\n",
      "Epoch 103/1000\n",
      "33/36 [==========================>...] - ETA: 0s - loss: 0.5461 - accuracy: 0.7914\n",
      "Epoch 00103: saving model to model/keypoint_classifier\\keypoint_classifier.hdf5\n",
      "36/36 [==============================] - 0s 4ms/step - loss: 0.5427 - accuracy: 0.7916 - val_loss: 0.2454 - val_accuracy: 0.9674\n",
      "Epoch 104/1000\n",
      "35/36 [============================>.] - ETA: 0s - loss: 0.5162 - accuracy: 0.8027\n",
      "Epoch 00104: saving model to model/keypoint_classifier\\keypoint_classifier.hdf5\n",
      "36/36 [==============================] - 0s 3ms/step - loss: 0.5156 - accuracy: 0.8029 - val_loss: 0.2406 - val_accuracy: 0.9674\n",
      "Epoch 105/1000\n",
      "35/36 [============================>.] - ETA: 0s - loss: 0.5045 - accuracy: 0.8060\n",
      "Epoch 00105: saving model to model/keypoint_classifier\\keypoint_classifier.hdf5\n",
      "36/36 [==============================] - 0s 3ms/step - loss: 0.5041 - accuracy: 0.8062 - val_loss: 0.2423 - val_accuracy: 0.9640\n",
      "Epoch 106/1000\n",
      "34/36 [===========================>..] - ETA: 0s - loss: 0.5140 - accuracy: 0.8035\n",
      "Epoch 00106: saving model to model/keypoint_classifier\\keypoint_classifier.hdf5\n",
      "36/36 [==============================] - 0s 3ms/step - loss: 0.5124 - accuracy: 0.8049 - val_loss: 0.2398 - val_accuracy: 0.9660\n",
      "Epoch 107/1000\n",
      "31/36 [========================>.....] - ETA: 0s - loss: 0.5097 - accuracy: 0.8029\n",
      "Epoch 00107: saving model to model/keypoint_classifier\\keypoint_classifier.hdf5\n",
      "36/36 [==============================] - 0s 3ms/step - loss: 0.5096 - accuracy: 0.8007 - val_loss: 0.2395 - val_accuracy: 0.9674\n",
      "Epoch 108/1000\n",
      "30/36 [========================>.....] - ETA: 0s - loss: 0.5259 - accuracy: 0.7940\n",
      "Epoch 00108: saving model to model/keypoint_classifier\\keypoint_classifier.hdf5\n",
      "36/36 [==============================] - 0s 3ms/step - loss: 0.5228 - accuracy: 0.7927 - val_loss: 0.2402 - val_accuracy: 0.9614\n"
     ]
    },
    {
     "name": "stdout",
     "output_type": "stream",
     "text": [
      "Epoch 109/1000\n",
      "35/36 [============================>.] - ETA: 0s - loss: 0.5071 - accuracy: 0.8087\n",
      "Epoch 00109: saving model to model/keypoint_classifier\\keypoint_classifier.hdf5\n",
      "36/36 [==============================] - 0s 3ms/step - loss: 0.5085 - accuracy: 0.8078 - val_loss: 0.2448 - val_accuracy: 0.9654\n",
      "Epoch 110/1000\n",
      "31/36 [========================>.....] - ETA: 0s - loss: 0.5189 - accuracy: 0.8100\n",
      "Epoch 00110: saving model to model/keypoint_classifier\\keypoint_classifier.hdf5\n",
      "36/36 [==============================] - 0s 3ms/step - loss: 0.5323 - accuracy: 0.8040 - val_loss: 0.2445 - val_accuracy: 0.9640\n",
      "Epoch 111/1000\n",
      "36/36 [==============================] - ETA: 0s - loss: 0.5267 - accuracy: 0.8016\n",
      "Epoch 00111: saving model to model/keypoint_classifier\\keypoint_classifier.hdf5\n",
      "36/36 [==============================] - 0s 3ms/step - loss: 0.5267 - accuracy: 0.8016 - val_loss: 0.2518 - val_accuracy: 0.9660\n",
      "Epoch 112/1000\n",
      "36/36 [==============================] - ETA: 0s - loss: 0.5144 - accuracy: 0.8078\n",
      "Epoch 00112: saving model to model/keypoint_classifier\\keypoint_classifier.hdf5\n",
      "36/36 [==============================] - 0s 3ms/step - loss: 0.5144 - accuracy: 0.8078 - val_loss: 0.2285 - val_accuracy: 0.9700\n",
      "Epoch 113/1000\n",
      " 1/36 [..............................] - ETA: 0s - loss: 0.5090 - accuracy: 0.7734\n",
      "Epoch 00113: saving model to model/keypoint_classifier\\keypoint_classifier.hdf5\n",
      "36/36 [==============================] - 0s 3ms/step - loss: 0.5107 - accuracy: 0.8084 - val_loss: 0.2437 - val_accuracy: 0.9680\n",
      "Epoch 114/1000\n",
      "30/36 [========================>.....] - ETA: 0s - loss: 0.5158 - accuracy: 0.8031\n",
      "Epoch 00114: saving model to model/keypoint_classifier\\keypoint_classifier.hdf5\n",
      "36/36 [==============================] - 0s 3ms/step - loss: 0.5117 - accuracy: 0.8058 - val_loss: 0.2383 - val_accuracy: 0.9694\n",
      "Epoch 115/1000\n",
      "34/36 [===========================>..] - ETA: 0s - loss: 0.5208 - accuracy: 0.8040\n",
      "Epoch 00115: saving model to model/keypoint_classifier\\keypoint_classifier.hdf5\n",
      "36/36 [==============================] - 0s 3ms/step - loss: 0.5182 - accuracy: 0.8044 - val_loss: 0.2564 - val_accuracy: 0.9614\n",
      "Epoch 116/1000\n",
      "36/36 [==============================] - ETA: 0s - loss: 0.4988 - accuracy: 0.8116\n",
      "Epoch 00116: saving model to model/keypoint_classifier\\keypoint_classifier.hdf5\n",
      "36/36 [==============================] - 0s 3ms/step - loss: 0.4988 - accuracy: 0.8116 - val_loss: 0.2375 - val_accuracy: 0.9680\n",
      "Epoch 117/1000\n",
      "29/36 [=======================>......] - ETA: 0s - loss: 0.5073 - accuracy: 0.8063\n",
      "Epoch 00117: saving model to model/keypoint_classifier\\keypoint_classifier.hdf5\n",
      "36/36 [==============================] - 0s 3ms/step - loss: 0.5097 - accuracy: 0.8080 - val_loss: 0.2317 - val_accuracy: 0.9667\n",
      "Epoch 118/1000\n",
      "36/36 [==============================] - ETA: 0s - loss: 0.5134 - accuracy: 0.8038\n",
      "Epoch 00118: saving model to model/keypoint_classifier\\keypoint_classifier.hdf5\n",
      "36/36 [==============================] - 0s 3ms/step - loss: 0.5134 - accuracy: 0.8038 - val_loss: 0.2339 - val_accuracy: 0.9647\n",
      "Epoch 119/1000\n",
      "36/36 [==============================] - ETA: 0s - loss: 0.5130 - accuracy: 0.8022\n",
      "Epoch 00119: saving model to model/keypoint_classifier\\keypoint_classifier.hdf5\n",
      "36/36 [==============================] - 0s 3ms/step - loss: 0.5130 - accuracy: 0.8022 - val_loss: 0.2517 - val_accuracy: 0.9614\n",
      "Epoch 120/1000\n",
      "35/36 [============================>.] - ETA: 0s - loss: 0.4988 - accuracy: 0.8071\n",
      "Epoch 00120: saving model to model/keypoint_classifier\\keypoint_classifier.hdf5\n",
      "36/36 [==============================] - 0s 3ms/step - loss: 0.4994 - accuracy: 0.8069 - val_loss: 0.2354 - val_accuracy: 0.9620\n",
      "Epoch 121/1000\n",
      "35/36 [============================>.] - ETA: 0s - loss: 0.4892 - accuracy: 0.8127\n",
      "Epoch 00121: saving model to model/keypoint_classifier\\keypoint_classifier.hdf5\n",
      "36/36 [==============================] - 0s 3ms/step - loss: 0.4896 - accuracy: 0.8124 - val_loss: 0.2361 - val_accuracy: 0.9620\n",
      "Epoch 122/1000\n",
      "34/36 [===========================>..] - ETA: 0s - loss: 0.5094 - accuracy: 0.8074\n",
      "Epoch 00122: saving model to model/keypoint_classifier\\keypoint_classifier.hdf5\n",
      "36/36 [==============================] - 0s 3ms/step - loss: 0.5096 - accuracy: 0.8069 - val_loss: 0.2414 - val_accuracy: 0.9640\n",
      "Epoch 123/1000\n",
      "34/36 [===========================>..] - ETA: 0s - loss: 0.5004 - accuracy: 0.8054\n",
      "Epoch 00123: saving model to model/keypoint_classifier\\keypoint_classifier.hdf5\n",
      "36/36 [==============================] - 0s 3ms/step - loss: 0.5025 - accuracy: 0.8044 - val_loss: 0.2401 - val_accuracy: 0.9660\n",
      "Epoch 124/1000\n",
      " 1/36 [..............................] - ETA: 0s - loss: 0.4171 - accuracy: 0.8203\n",
      "Epoch 00124: saving model to model/keypoint_classifier\\keypoint_classifier.hdf5\n",
      "36/36 [==============================] - 0s 3ms/step - loss: 0.4985 - accuracy: 0.8078 - val_loss: 0.2429 - val_accuracy: 0.9680\n",
      "Epoch 125/1000\n",
      " 1/36 [..............................] - ETA: 0s - loss: 0.4614 - accuracy: 0.7969\n",
      "Epoch 00125: saving model to model/keypoint_classifier\\keypoint_classifier.hdf5\n",
      "36/36 [==============================] - 0s 3ms/step - loss: 0.4925 - accuracy: 0.8100 - val_loss: 0.2393 - val_accuracy: 0.9660\n",
      "Epoch 126/1000\n",
      "31/36 [========================>.....] - ETA: 0s - loss: 0.4993 - accuracy: 0.8110\n",
      "Epoch 00126: saving model to model/keypoint_classifier\\keypoint_classifier.hdf5\n",
      "36/36 [==============================] - 0s 3ms/step - loss: 0.5012 - accuracy: 0.8109 - val_loss: 0.2372 - val_accuracy: 0.9667\n",
      "Epoch 127/1000\n",
      "35/36 [============================>.] - ETA: 0s - loss: 0.4984 - accuracy: 0.8076\n",
      "Epoch 00127: saving model to model/keypoint_classifier\\keypoint_classifier.hdf5\n",
      "36/36 [==============================] - 0s 3ms/step - loss: 0.4992 - accuracy: 0.8071 - val_loss: 0.2408 - val_accuracy: 0.9660\n",
      "Epoch 128/1000\n",
      "36/36 [==============================] - ETA: 0s - loss: 0.4758 - accuracy: 0.8207\n",
      "Epoch 00128: saving model to model/keypoint_classifier\\keypoint_classifier.hdf5\n",
      "36/36 [==============================] - 0s 3ms/step - loss: 0.4758 - accuracy: 0.8207 - val_loss: 0.2400 - val_accuracy: 0.9627\n",
      "Epoch 129/1000\n",
      "31/36 [========================>.....] - ETA: 0s - loss: 0.4838 - accuracy: 0.8158\n",
      "Epoch 00129: saving model to model/keypoint_classifier\\keypoint_classifier.hdf5\n",
      "36/36 [==============================] - 0s 3ms/step - loss: 0.4790 - accuracy: 0.8204 - val_loss: 0.2380 - val_accuracy: 0.9627\n",
      "Epoch 130/1000\n",
      "35/36 [============================>.] - ETA: 0s - loss: 0.4868 - accuracy: 0.8158\n",
      "Epoch 00130: saving model to model/keypoint_classifier\\keypoint_classifier.hdf5\n",
      "36/36 [==============================] - 0s 3ms/step - loss: 0.4879 - accuracy: 0.8151 - val_loss: 0.2267 - val_accuracy: 0.9700\n",
      "Epoch 131/1000\n",
      "33/36 [==========================>...] - ETA: 0s - loss: 0.5025 - accuracy: 0.8085\n",
      "Epoch 00131: saving model to model/keypoint_classifier\\keypoint_classifier.hdf5\n",
      "36/36 [==============================] - 0s 3ms/step - loss: 0.5013 - accuracy: 0.8098 - val_loss: 0.2431 - val_accuracy: 0.9660\n",
      "Epoch 132/1000\n",
      "33/36 [==========================>...] - ETA: 0s - loss: 0.5035 - accuracy: 0.8073\n",
      "Epoch 00132: saving model to model/keypoint_classifier\\keypoint_classifier.hdf5\n",
      "36/36 [==============================] - 0s 3ms/step - loss: 0.5063 - accuracy: 0.8060 - val_loss: 0.2414 - val_accuracy: 0.9680\n",
      "Epoch 133/1000\n",
      "34/36 [===========================>..] - ETA: 0s - loss: 0.4862 - accuracy: 0.8187\n",
      "Epoch 00133: saving model to model/keypoint_classifier\\keypoint_classifier.hdf5\n",
      "36/36 [==============================] - 0s 3ms/step - loss: 0.4872 - accuracy: 0.8193 - val_loss: 0.2334 - val_accuracy: 0.9680\n",
      "Epoch 134/1000\n",
      "34/36 [===========================>..] - ETA: 0s - loss: 0.4969 - accuracy: 0.8088\n",
      "Epoch 00134: saving model to model/keypoint_classifier\\keypoint_classifier.hdf5\n",
      "36/36 [==============================] - 0s 3ms/step - loss: 0.4950 - accuracy: 0.8098 - val_loss: 0.2474 - val_accuracy: 0.9660\n",
      "Epoch 135/1000\n",
      "33/36 [==========================>...] - ETA: 0s - loss: 0.4868 - accuracy: 0.8184\n",
      "Epoch 00135: saving model to model/keypoint_classifier\\keypoint_classifier.hdf5\n",
      "36/36 [==============================] - 0s 3ms/step - loss: 0.4864 - accuracy: 0.8176 - val_loss: 0.2327 - val_accuracy: 0.9694\n"
     ]
    },
    {
     "name": "stdout",
     "output_type": "stream",
     "text": [
      "Epoch 136/1000\n",
      "30/36 [========================>.....] - ETA: 0s - loss: 0.4976 - accuracy: 0.8156\n",
      "Epoch 00136: saving model to model/keypoint_classifier\\keypoint_classifier.hdf5\n",
      "36/36 [==============================] - 0s 4ms/step - loss: 0.4944 - accuracy: 0.8147 - val_loss: 0.2346 - val_accuracy: 0.9694\n",
      "Epoch 137/1000\n",
      " 1/36 [..............................] - ETA: 0s - loss: 0.5696 - accuracy: 0.7891\n",
      "Epoch 00137: saving model to model/keypoint_classifier\\keypoint_classifier.hdf5\n",
      "36/36 [==============================] - 0s 3ms/step - loss: 0.5002 - accuracy: 0.8127 - val_loss: 0.2306 - val_accuracy: 0.9667\n",
      "Epoch 138/1000\n",
      "36/36 [==============================] - ETA: 0s - loss: 0.5007 - accuracy: 0.8098\n",
      "Epoch 00138: saving model to model/keypoint_classifier\\keypoint_classifier.hdf5\n",
      "36/36 [==============================] - 0s 3ms/step - loss: 0.5007 - accuracy: 0.8098 - val_loss: 0.2399 - val_accuracy: 0.9614\n",
      "Epoch 139/1000\n",
      "35/36 [============================>.] - ETA: 0s - loss: 0.4891 - accuracy: 0.8217\n",
      "Epoch 00139: saving model to model/keypoint_classifier\\keypoint_classifier.hdf5\n",
      "36/36 [==============================] - 0s 3ms/step - loss: 0.4889 - accuracy: 0.8216 - val_loss: 0.2397 - val_accuracy: 0.9694\n",
      "Epoch 140/1000\n",
      "35/36 [============================>.] - ETA: 0s - loss: 0.5015 - accuracy: 0.8020\n",
      "Epoch 00140: saving model to model/keypoint_classifier\\keypoint_classifier.hdf5\n",
      "36/36 [==============================] - 0s 3ms/step - loss: 0.5023 - accuracy: 0.8018 - val_loss: 0.2441 - val_accuracy: 0.9627\n",
      "Epoch 141/1000\n",
      "35/36 [============================>.] - ETA: 0s - loss: 0.4990 - accuracy: 0.8147\n",
      "Epoch 00141: saving model to model/keypoint_classifier\\keypoint_classifier.hdf5\n",
      "36/36 [==============================] - 0s 3ms/step - loss: 0.4988 - accuracy: 0.8147 - val_loss: 0.2440 - val_accuracy: 0.9654\n",
      "Epoch 142/1000\n",
      "35/36 [============================>.] - ETA: 0s - loss: 0.4797 - accuracy: 0.8208\n",
      "Epoch 00142: saving model to model/keypoint_classifier\\keypoint_classifier.hdf5\n",
      "36/36 [==============================] - 0s 3ms/step - loss: 0.4796 - accuracy: 0.8209 - val_loss: 0.2331 - val_accuracy: 0.9660\n",
      "Epoch 143/1000\n",
      " 1/36 [..............................] - ETA: 0s - loss: 0.4355 - accuracy: 0.8203\n",
      "Epoch 00143: saving model to model/keypoint_classifier\\keypoint_classifier.hdf5\n",
      "36/36 [==============================] - 0s 3ms/step - loss: 0.4883 - accuracy: 0.8133 - val_loss: 0.2382 - val_accuracy: 0.9600\n",
      "Epoch 144/1000\n",
      "28/36 [======================>.......] - ETA: 0s - loss: 0.4916 - accuracy: 0.8186\n",
      "Epoch 00144: saving model to model/keypoint_classifier\\keypoint_classifier.hdf5\n",
      "36/36 [==============================] - 0s 3ms/step - loss: 0.4914 - accuracy: 0.8160 - val_loss: 0.2359 - val_accuracy: 0.9674\n",
      "Epoch 145/1000\n",
      "36/36 [==============================] - ETA: 0s - loss: 0.4915 - accuracy: 0.8160\n",
      "Epoch 00145: saving model to model/keypoint_classifier\\keypoint_classifier.hdf5\n",
      "36/36 [==============================] - 0s 3ms/step - loss: 0.4915 - accuracy: 0.8160 - val_loss: 0.2429 - val_accuracy: 0.9627\n",
      "Epoch 146/1000\n",
      "34/36 [===========================>..] - ETA: 0s - loss: 0.5042 - accuracy: 0.8054\n",
      "Epoch 00146: saving model to model/keypoint_classifier\\keypoint_classifier.hdf5\n",
      "36/36 [==============================] - 0s 3ms/step - loss: 0.5024 - accuracy: 0.8064 - val_loss: 0.2471 - val_accuracy: 0.9680\n",
      "Epoch 147/1000\n",
      " 1/36 [..............................] - ETA: 0s - loss: 0.5353 - accuracy: 0.8516\n",
      "Epoch 00147: saving model to model/keypoint_classifier\\keypoint_classifier.hdf5\n",
      "36/36 [==============================] - 0s 4ms/step - loss: 0.4882 - accuracy: 0.8162 - val_loss: 0.2400 - val_accuracy: 0.9654\n",
      "Epoch 148/1000\n",
      "33/36 [==========================>...] - ETA: 0s - loss: 0.4848 - accuracy: 0.8170\n",
      "Epoch 00148: saving model to model/keypoint_classifier\\keypoint_classifier.hdf5\n",
      "36/36 [==============================] - 0s 3ms/step - loss: 0.4840 - accuracy: 0.8167 - val_loss: 0.2320 - val_accuracy: 0.9674\n",
      "Epoch 149/1000\n",
      "34/36 [===========================>..] - ETA: 0s - loss: 0.4752 - accuracy: 0.8231\n",
      "Epoch 00149: saving model to model/keypoint_classifier\\keypoint_classifier.hdf5\n",
      "36/36 [==============================] - 0s 3ms/step - loss: 0.4748 - accuracy: 0.8231 - val_loss: 0.2436 - val_accuracy: 0.9627\n",
      "Epoch 150/1000\n",
      "35/36 [============================>.] - ETA: 0s - loss: 0.4830 - accuracy: 0.8143\n",
      "Epoch 00150: saving model to model/keypoint_classifier\\keypoint_classifier.hdf5\n",
      "36/36 [==============================] - 0s 3ms/step - loss: 0.4843 - accuracy: 0.8138 - val_loss: 0.2422 - val_accuracy: 0.9627\n",
      "Epoch 00150: early stopping\n"
     ]
    },
    {
     "data": {
      "text/plain": [
       "<keras.callbacks.History at 0x1ca67561040>"
      ]
     },
     "execution_count": 11,
     "metadata": {},
     "output_type": "execute_result"
    }
   ],
   "source": [
    "model.fit(\n",
    "    X_train,\n",
    "    y_train,\n",
    "    epochs=1000,\n",
    "    batch_size=128,\n",
    "    validation_data=(X_test, y_test),\n",
    "    callbacks=[cp_callback, es_callback]\n",
    ")"
   ]
  },
  {
   "cell_type": "code",
   "execution_count": 12,
   "metadata": {},
   "outputs": [
    {
     "name": "stdout",
     "output_type": "stream",
     "text": [
      "12/12 [==============================] - 0s 1ms/step - loss: 0.2422 - accuracy: 0.9627\n"
     ]
    }
   ],
   "source": [
    "# モデル評価\n",
    "val_loss, val_acc = model.evaluate(X_test, y_test, batch_size=128)"
   ]
  },
  {
   "cell_type": "code",
   "execution_count": 13,
   "metadata": {},
   "outputs": [],
   "source": [
    "# 保存したモデルのロード\n",
    "model = tf.keras.models.load_model(model_save_path)"
   ]
  },
  {
   "cell_type": "code",
   "execution_count": 14,
   "metadata": {},
   "outputs": [
    {
     "name": "stdout",
     "output_type": "stream",
     "text": [
      "[5.01535134e-03 9.19935465e-01 7.49310255e-02 1.18236545e-04]\n",
      "1\n"
     ]
    }
   ],
   "source": [
    "# 推論テスト\n",
    "predict_result = model.predict(np.array([X_test[0]]))\n",
    "print(np.squeeze(predict_result))\n",
    "print(np.argmax(np.squeeze(predict_result)))"
   ]
  },
  {
   "cell_type": "markdown",
   "metadata": {},
   "source": [
    "# 混同行列"
   ]
  },
  {
   "cell_type": "code",
   "execution_count": 15,
   "metadata": {
    "scrolled": false
   },
   "outputs": [
    {
     "data": {
      "image/png": "[encoded data removed]",
      "text/plain": [
       "<Figure size 700x600 with 2 Axes>"
      ]
     },
     "metadata": {},
     "output_type": "display_data"
    },
    {
     "name": "stdout",
     "output_type": "stream",
     "text": [
      "Classification Report\n",
      "              precision    recall  f1-score   support\n",
      "\n",
      "           0       0.99      0.98      0.98       530\n",
      "           1       0.99      0.90      0.95       384\n",
      "           2       0.88      0.98      0.93       332\n",
      "           3       0.99      0.99      0.99       255\n",
      "\n",
      "    accuracy                           0.96      1501\n",
      "   macro avg       0.96      0.96      0.96      1501\n",
      "weighted avg       0.97      0.96      0.96      1501\n",
      "\n"
     ]
    }
   ],
   "source": [
    "import pandas as pd\n",
    "import seaborn as sns\n",
    "import matplotlib.pyplot as plt\n",
    "from sklearn.metrics import confusion_matrix, classification_report\n",
    "\n",
    "def print_confusion_matrix(y_true, y_pred, report=True):\n",
    "    labels = sorted(list(set(y_true)))\n",
    "    cmx_data = confusion_matrix(y_true, y_pred, labels=labels)\n",
    "    \n",
    "    df_cmx = pd.DataFrame(cmx_data, index=labels, columns=labels)\n",
    " \n",
    "    fig, ax = plt.subplots(figsize=(7, 6))\n",
    "    sns.heatmap(df_cmx, annot=True, fmt='g' ,square=False)\n",
    "    ax.set_ylim(len(set(y_true)), 0)\n",
    "    plt.show()\n",
    "    \n",
    "    if report:\n",
    "        print('Classification Report')\n",
    "        print(classification_report(y_test, y_pred))\n",
    "\n",
    "Y_pred = model.predict(X_test)\n",
    "y_pred = np.argmax(Y_pred, axis=1)\n",
    "\n",
    "print_confusion_matrix(y_test, y_pred)"
   ]
  },
  {
   "cell_type": "markdown",
   "metadata": {},
   "source": [
    "# Tensorflow-Lite用のモデルへ変換"
   ]
  },
  {
   "cell_type": "code",
   "execution_count": 16,
   "metadata": {},
   "outputs": [],
   "source": [
    "# 推論専用のモデルとして保存\n",
    "model.save(model_save_path, include_optimizer=False)"
   ]
  },
  {
   "cell_type": "code",
   "execution_count": 17,
   "metadata": {},
   "outputs": [
    {
     "data": {
      "text/plain": [
       "6232"
      ]
     },
     "execution_count": 17,
     "metadata": {},
     "output_type": "execute_result"
    }
   ],
   "source": [
    "# モデルを変換(量子化)\n",
    "tflite_save_path = 'model/keypoint_classifier/keypoint_classifier.tflite'\n",
    "\n",
    "converter = tf.lite.TFLiteConverter.from_keras_model(model)\n",
    "converter.optimizations = [tf.lite.Optimize.DEFAULT]\n",
    "tflite_quantized_model = converter.convert()\n",
    "\n",
    "open(tflite_save_path, 'wb').write(tflite_quantized_model)"
   ]
  },
  {
   "cell_type": "markdown",
   "metadata": {},
   "source": [
    "# 推論テスト"
   ]
  },
  {
   "cell_type": "code",
   "execution_count": 18,
   "metadata": {},
   "outputs": [],
   "source": [
    "interpreter = tf.lite.Interpreter(model_path=tflite_save_path)\n",
    "interpreter.allocate_tensors()"
   ]
  },
  {
   "cell_type": "code",
   "execution_count": 19,
   "metadata": {},
   "outputs": [],
   "source": [
    "# 入出力テンソルを取得\n",
    "input_details = interpreter.get_input_details()\n",
    "output_details = interpreter.get_output_details()"
   ]
  },
  {
   "cell_type": "code",
   "execution_count": 20,
   "metadata": {},
   "outputs": [],
   "source": [
    "interpreter.set_tensor(input_details[0]['index'], np.array([X_test[0]]))"
   ]
  },
  {
   "cell_type": "code",
   "execution_count": 21,
   "metadata": {
    "scrolled": true
   },
   "outputs": [
    {
     "name": "stdout",
     "output_type": "stream",
     "text": [
      "Wall time: 0 ns\n"
     ]
    }
   ],
   "source": [
    "%%time\n",
    "# 推論実施\n",
    "interpreter.invoke()\n",
    "tflite_results = interpreter.get_tensor(output_details[0]['index'])"
   ]
  },
  {
   "cell_type": "code",
   "execution_count": 22,
   "metadata": {},
   "outputs": [
    {
     "name": "stdout",
     "output_type": "stream",
     "text": [
      "[5.01535507e-03 9.19935346e-01 7.49310404e-02 1.18236756e-04]\n",
      "1\n"
     ]
    }
   ],
   "source": [
    "print(np.squeeze(tflite_results))\n",
    "print(np.argmax(np.squeeze(tflite_results)))"
   ]
  }
 ],
 "metadata": {
  "kernelspec": {
   "display_name": "Python 3 (ipykernel)",
   "language": "python",
   "name": "python3"
  },
  "language_info": {
   "codemirror_mode": {
    "name": "ipython",
    "version": 3
   },
   "file_extension": ".py",
   "mimetype": "text/x-python",
   "name": "python",
   "nbconvert_exporter": "python",
   "pygments_lexer": "ipython3",
   "version": "3.9.13"
  }
 },
 "nbformat": 4,
 "nbformat_minor": 4
}
