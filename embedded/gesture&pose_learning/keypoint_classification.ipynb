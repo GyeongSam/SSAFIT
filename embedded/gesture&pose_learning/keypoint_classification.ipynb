{
 "cells": [
  {
   "cell_type": "code",
   "execution_count": 1,
   "metadata": {},
   "outputs": [],
   "source": [
    "import csv\n",
    "\n",
    "import numpy as np\n",
    "import tensorflow as tf\n",
    "from sklearn.model_selection import train_test_split\n",
    "\n",
    "RANDOM_SEED = 66"
   ]
  },
  {
   "cell_type": "markdown",
   "metadata": {},
   "source": [
    "# 各パス指定"
   ]
  },
  {
   "cell_type": "code",
   "execution_count": 2,
   "metadata": {},
   "outputs": [],
   "source": [
    "dataset = 'model/keypoint_classifier/fitness_poses_csvs_out_basic.csv'\n",
    "model_save_path = 'model/keypoint_classifier/keypoint_classifier.hdf5'"
   ]
  },
  {
   "cell_type": "markdown",
   "metadata": {},
   "source": [
    "# 分類数設定"
   ]
  },
  {
   "cell_type": "code",
   "execution_count": 3,
   "metadata": {},
   "outputs": [],
   "source": [
    "NUM_CLASSES = 3"
   ]
  },
  {
   "cell_type": "markdown",
   "metadata": {},
   "source": [
    "# 学習データ読み込み"
   ]
  },
  {
   "cell_type": "code",
   "execution_count": 4,
   "metadata": {},
   "outputs": [],
   "source": [
    "X_dataset = np.loadtxt(dataset, delimiter=',', dtype='float32', usecols=list(range(1, (33 * 2) + 1)))"
   ]
  },
  {
   "cell_type": "code",
   "execution_count": 5,
   "metadata": {},
   "outputs": [],
   "source": [
    "y_dataset = np.loadtxt(dataset, delimiter=',', dtype='int32', usecols=(0))"
   ]
  },
  {
   "cell_type": "code",
   "execution_count": 6,
   "metadata": {},
   "outputs": [],
   "source": [
    "X_train, X_test, y_train, y_test = train_test_split(X_dataset, y_dataset, train_size=0.75, random_state=RANDOM_SEED)"
   ]
  },
  {
   "cell_type": "markdown",
   "metadata": {},
   "source": [
    "# モデル構築"
   ]
  },
  {
   "cell_type": "code",
   "execution_count": 7,
   "metadata": {},
   "outputs": [],
   "source": [
    "model = tf.keras.models.Sequential([\n",
    "    tf.keras.layers.Input((33 * 2, )),\n",
    "    tf.keras.layers.Dropout(0.2),\n",
    "    tf.keras.layers.Dense(20, activation='relu'),\n",
    "    tf.keras.layers.Dropout(0.4),\n",
    "    tf.keras.layers.Dense(10, activation='relu'),\n",
    "    tf.keras.layers.Dense(NUM_CLASSES, activation='softmax')\n",
    "])"
   ]
  },
  {
   "cell_type": "code",
   "execution_count": 8,
   "metadata": {},
   "outputs": [
    {
     "name": "stdout",
     "output_type": "stream",
     "text": [
      "Model: \"sequential\"\n",
      "_________________________________________________________________\n",
      " Layer (type)                Output Shape              Param #   \n",
      "=================================================================\n",
      " dropout (Dropout)           (None, 66)                0         \n",
      "                                                                 \n",
      " dense (Dense)               (None, 20)                1340      \n",
      "                                                                 \n",
      " dropout_1 (Dropout)         (None, 20)                0         \n",
      "                                                                 \n",
      " dense_1 (Dense)             (None, 10)                210       \n",
      "                                                                 \n",
      " dense_2 (Dense)             (None, 3)                 33        \n",
      "                                                                 \n",
      "=================================================================\n",
      "Total params: 1,583\n",
      "Trainable params: 1,583\n",
      "Non-trainable params: 0\n",
      "_________________________________________________________________\n"
     ]
    }
   ],
   "source": [
    "model.summary()  # tf.keras.utils.plot_model(model, show_shapes=True)"
   ]
  },
  {
   "cell_type": "code",
   "execution_count": 9,
   "metadata": {},
   "outputs": [],
   "source": [
    "# モデルチェックポイントのコールバック\n",
    "cp_callback = tf.keras.callbacks.ModelCheckpoint(\n",
    "    model_save_path, verbose=1, save_weights_only=False)\n",
    "# 早期打ち切り用コールバック\n",
    "es_callback = tf.keras.callbacks.EarlyStopping(patience=20, verbose=1)"
   ]
  },
  {
   "cell_type": "code",
   "execution_count": 10,
   "metadata": {},
   "outputs": [],
   "source": [
    "# モデルコンパイル\n",
    "model.compile(\n",
    "    optimizer='adam',\n",
    "    loss='sparse_categorical_crossentropy',\n",
    "    metrics=['accuracy']\n",
    ")"
   ]
  },
  {
   "cell_type": "markdown",
   "metadata": {},
   "source": [
    "# モデル訓練"
   ]
  },
  {
   "cell_type": "code",
   "execution_count": 11,
   "metadata": {
    "scrolled": true
   },
   "outputs": [
    {
     "name": "stdout",
     "output_type": "stream",
     "text": [
      "Epoch 1/1000\n",
      "1/1 [==============================] - ETA: 0s - loss: 1843.7621 - accuracy: 0.0000e+00\n",
      "Epoch 00001: saving model to model/keypoint_classifier\\keypoint_classifier.hdf5\n",
      "1/1 [==============================] - 0s 439ms/step - loss: 1843.7621 - accuracy: 0.0000e+00 - val_loss: 926.3843 - val_accuracy: 0.0000e+00\n",
      "Epoch 2/1000\n",
      "1/1 [==============================] - ETA: 0s - loss: 1902.4730 - accuracy: 0.0000e+00\n",
      "Epoch 00002: saving model to model/keypoint_classifier\\keypoint_classifier.hdf5\n",
      "1/1 [==============================] - 0s 30ms/step - loss: 1902.4730 - accuracy: 0.0000e+00 - val_loss: 789.3781 - val_accuracy: 0.0000e+00\n",
      "Epoch 3/1000\n",
      "1/1 [==============================] - ETA: 0s - loss: 2378.6609 - accuracy: 0.0000e+00\n",
      "Epoch 00003: saving model to model/keypoint_classifier\\keypoint_classifier.hdf5\n",
      "1/1 [==============================] - 0s 30ms/step - loss: 2378.6609 - accuracy: 0.0000e+00 - val_loss: 656.8751 - val_accuracy: 0.0000e+00\n",
      "Epoch 4/1000\n",
      "1/1 [==============================] - ETA: 0s - loss: 1735.7618 - accuracy: 0.1667\n",
      "Epoch 00004: saving model to model/keypoint_classifier\\keypoint_classifier.hdf5\n",
      "1/1 [==============================] - 0s 31ms/step - loss: 1735.7618 - accuracy: 0.1667 - val_loss: 549.3176 - val_accuracy: 0.0000e+00\n",
      "Epoch 5/1000\n",
      "1/1 [==============================] - ETA: 0s - loss: 983.9728 - accuracy: 0.5000\n",
      "Epoch 00005: saving model to model/keypoint_classifier\\keypoint_classifier.hdf5\n",
      "1/1 [==============================] - 0s 31ms/step - loss: 983.9728 - accuracy: 0.5000 - val_loss: 455.4045 - val_accuracy: 0.0000e+00\n",
      "Epoch 6/1000\n",
      "1/1 [==============================] - ETA: 0s - loss: 884.7337 - accuracy: 0.1667\n",
      "Epoch 00006: saving model to model/keypoint_classifier\\keypoint_classifier.hdf5\n",
      "1/1 [==============================] - 0s 31ms/step - loss: 884.7337 - accuracy: 0.1667 - val_loss: 363.0097 - val_accuracy: 0.0000e+00\n",
      "Epoch 7/1000\n",
      "1/1 [==============================] - ETA: 0s - loss: 2305.0879 - accuracy: 0.1667\n",
      "Epoch 00007: saving model to model/keypoint_classifier\\keypoint_classifier.hdf5\n",
      "1/1 [==============================] - 0s 32ms/step - loss: 2305.0879 - accuracy: 0.1667 - val_loss: 290.5482 - val_accuracy: 0.0000e+00\n",
      "Epoch 8/1000\n",
      "1/1 [==============================] - ETA: 0s - loss: 931.7614 - accuracy: 0.3333\n",
      "Epoch 00008: saving model to model/keypoint_classifier\\keypoint_classifier.hdf5\n",
      "1/1 [==============================] - 0s 31ms/step - loss: 931.7614 - accuracy: 0.3333 - val_loss: 221.2129 - val_accuracy: 0.0000e+00\n",
      "Epoch 9/1000\n",
      "1/1 [==============================] - ETA: 0s - loss: 653.9273 - accuracy: 0.5000\n",
      "Epoch 00009: saving model to model/keypoint_classifier\\keypoint_classifier.hdf5\n",
      "1/1 [==============================] - 0s 32ms/step - loss: 653.9273 - accuracy: 0.5000 - val_loss: 138.0825 - val_accuracy: 0.0000e+00\n",
      "Epoch 10/1000\n",
      "1/1 [==============================] - ETA: 0s - loss: 1504.5734 - accuracy: 0.0000e+00\n",
      "Epoch 00010: saving model to model/keypoint_classifier\\keypoint_classifier.hdf5\n",
      "1/1 [==============================] - 0s 31ms/step - loss: 1504.5734 - accuracy: 0.0000e+00 - val_loss: 77.9784 - val_accuracy: 0.3333\n",
      "Epoch 11/1000\n",
      "1/1 [==============================] - ETA: 0s - loss: 1317.5056 - accuracy: 0.1667\n",
      "Epoch 00011: saving model to model/keypoint_classifier\\keypoint_classifier.hdf5\n",
      "1/1 [==============================] - 0s 32ms/step - loss: 1317.5056 - accuracy: 0.1667 - val_loss: 50.6366 - val_accuracy: 0.3333\n",
      "Epoch 12/1000\n",
      "1/1 [==============================] - ETA: 0s - loss: 802.6167 - accuracy: 0.3333\n",
      "Epoch 00012: saving model to model/keypoint_classifier\\keypoint_classifier.hdf5\n",
      "1/1 [==============================] - 0s 33ms/step - loss: 802.6167 - accuracy: 0.3333 - val_loss: 36.1404 - val_accuracy: 0.6667\n",
      "Epoch 13/1000\n",
      "1/1 [==============================] - ETA: 0s - loss: 477.6643 - accuracy: 0.5000\n",
      "Epoch 00013: saving model to model/keypoint_classifier\\keypoint_classifier.hdf5\n",
      "1/1 [==============================] - 0s 33ms/step - loss: 477.6643 - accuracy: 0.5000 - val_loss: 36.6624 - val_accuracy: 0.6667\n",
      "Epoch 14/1000\n",
      "1/1 [==============================] - ETA: 0s - loss: 1498.6722 - accuracy: 0.1667\n",
      "Epoch 00014: saving model to model/keypoint_classifier\\keypoint_classifier.hdf5\n",
      "1/1 [==============================] - 0s 32ms/step - loss: 1498.6722 - accuracy: 0.1667 - val_loss: 34.1115 - val_accuracy: 0.6667\n",
      "Epoch 15/1000\n",
      "1/1 [==============================] - ETA: 0s - loss: 433.9902 - accuracy: 0.5000\n",
      "Epoch 00015: saving model to model/keypoint_classifier\\keypoint_classifier.hdf5\n",
      "1/1 [==============================] - 0s 33ms/step - loss: 433.9902 - accuracy: 0.5000 - val_loss: 24.5012 - val_accuracy: 0.6667\n",
      "Epoch 16/1000\n",
      "1/1 [==============================] - ETA: 0s - loss: 1107.6283 - accuracy: 0.5000\n",
      "Epoch 00016: saving model to model/keypoint_classifier\\keypoint_classifier.hdf5\n",
      "1/1 [==============================] - 0s 32ms/step - loss: 1107.6283 - accuracy: 0.5000 - val_loss: 15.8393 - val_accuracy: 0.6667\n",
      "Epoch 17/1000\n",
      "1/1 [==============================] - ETA: 0s - loss: 1553.5566 - accuracy: 0.3333\n",
      "Epoch 00017: saving model to model/keypoint_classifier\\keypoint_classifier.hdf5\n",
      "1/1 [==============================] - 0s 32ms/step - loss: 1553.5566 - accuracy: 0.3333 - val_loss: 6.4221 - val_accuracy: 0.6667\n",
      "Epoch 18/1000\n",
      "1/1 [==============================] - ETA: 0s - loss: 720.0991 - accuracy: 0.5000\n",
      "Epoch 00018: saving model to model/keypoint_classifier\\keypoint_classifier.hdf5\n",
      "1/1 [==============================] - 0s 34ms/step - loss: 720.0991 - accuracy: 0.5000 - val_loss: 1.6034e-04 - val_accuracy: 1.0000\n",
      "Epoch 19/1000\n",
      "1/1 [==============================] - ETA: 0s - loss: 1100.8202 - accuracy: 0.5000\n",
      "Epoch 00019: saving model to model/keypoint_classifier\\keypoint_classifier.hdf5\n",
      "1/1 [==============================] - 0s 34ms/step - loss: 1100.8202 - accuracy: 0.5000 - val_loss: 0.0000e+00 - val_accuracy: 1.0000\n",
      "Epoch 20/1000\n",
      "1/1 [==============================] - ETA: 0s - loss: 552.4060 - accuracy: 0.3333\n",
      "Epoch 00020: saving model to model/keypoint_classifier\\keypoint_classifier.hdf5\n",
      "1/1 [==============================] - 0s 34ms/step - loss: 552.4060 - accuracy: 0.3333 - val_loss: 0.0000e+00 - val_accuracy: 1.0000\n",
      "Epoch 21/1000\n",
      "1/1 [==============================] - ETA: 0s - loss: 825.1424 - accuracy: 0.3333\n",
      "Epoch 00021: saving model to model/keypoint_classifier\\keypoint_classifier.hdf5\n",
      "1/1 [==============================] - 0s 35ms/step - loss: 825.1424 - accuracy: 0.3333 - val_loss: 0.0000e+00 - val_accuracy: 1.0000\n",
      "Epoch 22/1000\n",
      "1/1 [==============================] - ETA: 0s - loss: 1082.7831 - accuracy: 0.3333\n",
      "Epoch 00022: saving model to model/keypoint_classifier\\keypoint_classifier.hdf5\n",
      "1/1 [==============================] - 0s 32ms/step - loss: 1082.7831 - accuracy: 0.3333 - val_loss: 0.0000e+00 - val_accuracy: 1.0000\n",
      "Epoch 23/1000\n",
      "1/1 [==============================] - ETA: 0s - loss: 668.8770 - accuracy: 0.5000\n",
      "Epoch 00023: saving model to model/keypoint_classifier\\keypoint_classifier.hdf5\n",
      "1/1 [==============================] - 0s 32ms/step - loss: 668.8770 - accuracy: 0.5000 - val_loss: 0.0000e+00 - val_accuracy: 1.0000\n",
      "Epoch 24/1000\n",
      "1/1 [==============================] - ETA: 0s - loss: 452.4883 - accuracy: 0.3333\n",
      "Epoch 00024: saving model to model/keypoint_classifier\\keypoint_classifier.hdf5\n",
      "1/1 [==============================] - 0s 34ms/step - loss: 452.4883 - accuracy: 0.3333 - val_loss: 0.0000e+00 - val_accuracy: 1.0000\n",
      "Epoch 25/1000\n",
      "1/1 [==============================] - ETA: 0s - loss: 103.3462 - accuracy: 0.6667\n",
      "Epoch 00025: saving model to model/keypoint_classifier\\keypoint_classifier.hdf5\n",
      "1/1 [==============================] - 0s 34ms/step - loss: 103.3462 - accuracy: 0.6667 - val_loss: 0.0000e+00 - val_accuracy: 1.0000\n",
      "Epoch 26/1000\n",
      "1/1 [==============================] - ETA: 0s - loss: 649.4244 - accuracy: 0.6667\n",
      "Epoch 00026: saving model to model/keypoint_classifier\\keypoint_classifier.hdf5\n",
      "1/1 [==============================] - 0s 39ms/step - loss: 649.4244 - accuracy: 0.6667 - val_loss: 0.0000e+00 - val_accuracy: 1.0000\n",
      "Epoch 27/1000\n"
     ]
    },
    {
     "name": "stdout",
     "output_type": "stream",
     "text": [
      "1/1 [==============================] - ETA: 0s - loss: 1090.7374 - accuracy: 0.6667\n",
      "Epoch 00027: saving model to model/keypoint_classifier\\keypoint_classifier.hdf5\n",
      "1/1 [==============================] - 0s 44ms/step - loss: 1090.7374 - accuracy: 0.6667 - val_loss: 0.0000e+00 - val_accuracy: 1.0000\n",
      "Epoch 28/1000\n",
      "1/1 [==============================] - ETA: 0s - loss: 218.9693 - accuracy: 0.6667\n",
      "Epoch 00028: saving model to model/keypoint_classifier\\keypoint_classifier.hdf5\n",
      "1/1 [==============================] - 0s 37ms/step - loss: 218.9693 - accuracy: 0.6667 - val_loss: 0.0000e+00 - val_accuracy: 1.0000\n",
      "Epoch 29/1000\n",
      "1/1 [==============================] - ETA: 0s - loss: 367.6275 - accuracy: 0.5000\n",
      "Epoch 00029: saving model to model/keypoint_classifier\\keypoint_classifier.hdf5\n",
      "1/1 [==============================] - 0s 32ms/step - loss: 367.6275 - accuracy: 0.5000 - val_loss: 0.0000e+00 - val_accuracy: 1.0000\n",
      "Epoch 30/1000\n",
      "1/1 [==============================] - ETA: 0s - loss: 681.2690 - accuracy: 0.1667\n",
      "Epoch 00030: saving model to model/keypoint_classifier\\keypoint_classifier.hdf5\n",
      "1/1 [==============================] - 0s 32ms/step - loss: 681.2690 - accuracy: 0.1667 - val_loss: 0.0000e+00 - val_accuracy: 1.0000\n",
      "Epoch 31/1000\n",
      "1/1 [==============================] - ETA: 0s - loss: 443.0835 - accuracy: 0.3333\n",
      "Epoch 00031: saving model to model/keypoint_classifier\\keypoint_classifier.hdf5\n",
      "1/1 [==============================] - 0s 31ms/step - loss: 443.0835 - accuracy: 0.3333 - val_loss: 0.0000e+00 - val_accuracy: 1.0000\n",
      "Epoch 32/1000\n",
      "1/1 [==============================] - ETA: 0s - loss: 327.2200 - accuracy: 0.8333\n",
      "Epoch 00032: saving model to model/keypoint_classifier\\keypoint_classifier.hdf5\n",
      "1/1 [==============================] - 0s 30ms/step - loss: 327.2200 - accuracy: 0.8333 - val_loss: 0.0000e+00 - val_accuracy: 1.0000\n",
      "Epoch 33/1000\n",
      "1/1 [==============================] - ETA: 0s - loss: 635.4140 - accuracy: 0.5000\n",
      "Epoch 00033: saving model to model/keypoint_classifier\\keypoint_classifier.hdf5\n",
      "1/1 [==============================] - 0s 33ms/step - loss: 635.4140 - accuracy: 0.5000 - val_loss: 0.0000e+00 - val_accuracy: 1.0000\n",
      "Epoch 34/1000\n",
      "1/1 [==============================] - ETA: 0s - loss: 124.9790 - accuracy: 0.8333\n",
      "Epoch 00034: saving model to model/keypoint_classifier\\keypoint_classifier.hdf5\n",
      "1/1 [==============================] - 0s 33ms/step - loss: 124.9790 - accuracy: 0.8333 - val_loss: 0.0000e+00 - val_accuracy: 1.0000\n",
      "Epoch 35/1000\n",
      "1/1 [==============================] - ETA: 0s - loss: 433.1823 - accuracy: 0.5000\n",
      "Epoch 00035: saving model to model/keypoint_classifier\\keypoint_classifier.hdf5\n",
      "1/1 [==============================] - 0s 33ms/step - loss: 433.1823 - accuracy: 0.5000 - val_loss: 0.0000e+00 - val_accuracy: 1.0000\n",
      "Epoch 36/1000\n",
      "1/1 [==============================] - ETA: 0s - loss: 291.2354 - accuracy: 0.6667\n",
      "Epoch 00036: saving model to model/keypoint_classifier\\keypoint_classifier.hdf5\n",
      "1/1 [==============================] - 0s 36ms/step - loss: 291.2354 - accuracy: 0.6667 - val_loss: 0.0000e+00 - val_accuracy: 1.0000\n",
      "Epoch 37/1000\n",
      "1/1 [==============================] - ETA: 0s - loss: 15.6127 - accuracy: 0.8333\n",
      "Epoch 00037: saving model to model/keypoint_classifier\\keypoint_classifier.hdf5\n",
      "1/1 [==============================] - 0s 33ms/step - loss: 15.6127 - accuracy: 0.8333 - val_loss: 0.0000e+00 - val_accuracy: 1.0000\n",
      "Epoch 38/1000\n",
      "1/1 [==============================] - ETA: 0s - loss: 467.1057 - accuracy: 0.5000\n",
      "Epoch 00038: saving model to model/keypoint_classifier\\keypoint_classifier.hdf5\n",
      "1/1 [==============================] - 0s 33ms/step - loss: 467.1057 - accuracy: 0.5000 - val_loss: 0.0000e+00 - val_accuracy: 1.0000\n",
      "Epoch 39/1000\n",
      "1/1 [==============================] - ETA: 0s - loss: 457.6044 - accuracy: 0.3333\n",
      "Epoch 00039: saving model to model/keypoint_classifier\\keypoint_classifier.hdf5\n",
      "1/1 [==============================] - 0s 31ms/step - loss: 457.6044 - accuracy: 0.3333 - val_loss: 0.0000e+00 - val_accuracy: 1.0000\n",
      "Epoch 00039: early stopping\n"
     ]
    },
    {
     "data": {
      "text/plain": [
       "<keras.callbacks.History at 0x29994796220>"
      ]
     },
     "execution_count": 11,
     "metadata": {},
     "output_type": "execute_result"
    }
   ],
   "source": [
    "model.fit(\n",
    "    X_train,\n",
    "    y_train,\n",
    "    epochs=1000,\n",
    "    batch_size=128,\n",
    "    validation_data=(X_test, y_test),\n",
    "    callbacks=[cp_callback, es_callback]\n",
    ")"
   ]
  },
  {
   "cell_type": "code",
   "execution_count": 12,
   "metadata": {},
   "outputs": [
    {
     "name": "stdout",
     "output_type": "stream",
     "text": [
      "1/1 [==============================] - 0s 27ms/step - loss: 0.0000e+00 - accuracy: 1.0000\n"
     ]
    }
   ],
   "source": [
    "# モデル評価\n",
    "val_loss, val_acc = model.evaluate(X_test, y_test, batch_size=128)"
   ]
  },
  {
   "cell_type": "code",
   "execution_count": 13,
   "metadata": {},
   "outputs": [],
   "source": [
    "# 保存したモデルのロード\n",
    "model = tf.keras.models.load_model(model_save_path)"
   ]
  },
  {
   "cell_type": "code",
   "execution_count": 14,
   "metadata": {},
   "outputs": [
    {
     "name": "stdout",
     "output_type": "stream",
     "text": [
      "[1. 0. 0.]\n",
      "0\n"
     ]
    }
   ],
   "source": [
    "# 推論テスト\n",
    "predict_result = model.predict(np.array([X_test[0]]))\n",
    "print(np.squeeze(predict_result))\n",
    "print(np.argmax(np.squeeze(predict_result)))"
   ]
  },
  {
   "cell_type": "markdown",
   "metadata": {},
   "source": [
    "# 混同行列"
   ]
  },
  {
   "cell_type": "code",
   "execution_count": 15,
   "metadata": {},
   "outputs": [
    {
     "data": {
      "image/png": "[encoded data removed]",
      "text/plain": [
       "<Figure size 700x600 with 2 Axes>"
      ]
     },
     "metadata": {},
     "output_type": "display_data"
    },
    {
     "name": "stdout",
     "output_type": "stream",
     "text": [
      "Classification Report\n",
      "              precision    recall  f1-score   support\n",
      "\n",
      "           0       1.00      1.00      1.00         1\n",
      "           1       1.00      1.00      1.00         2\n",
      "\n",
      "    accuracy                           1.00         3\n",
      "   macro avg       1.00      1.00      1.00         3\n",
      "weighted avg       1.00      1.00      1.00         3\n",
      "\n"
     ]
    }
   ],
   "source": [
    "import pandas as pd\n",
    "import seaborn as sns\n",
    "import matplotlib.pyplot as plt\n",
    "from sklearn.metrics import confusion_matrix, classification_report\n",
    "\n",
    "def print_confusion_matrix(y_true, y_pred, report=True):\n",
    "    labels = sorted(list(set(y_true)))\n",
    "    cmx_data = confusion_matrix(y_true, y_pred, labels=labels)\n",
    "    \n",
    "    df_cmx = pd.DataFrame(cmx_data, index=labels, columns=labels)\n",
    " \n",
    "    fig, ax = plt.subplots(figsize=(7, 6))\n",
    "    sns.heatmap(df_cmx, annot=True, fmt='g' ,square=False)\n",
    "    ax.set_ylim(len(set(y_true)), 0)\n",
    "    plt.show()\n",
    "    \n",
    "    if report:\n",
    "        print('Classification Report')\n",
    "        print(classification_report(y_test, y_pred))\n",
    "\n",
    "Y_pred = model.predict(X_test)\n",
    "y_pred = np.argmax(Y_pred, axis=1)\n",
    "\n",
    "print_confusion_matrix(y_test, y_pred)"
   ]
  },
  {
   "cell_type": "markdown",
   "metadata": {},
   "source": [
    "# Tensorflow-Lite用のモデルへ変換"
   ]
  },
  {
   "cell_type": "code",
   "execution_count": 16,
   "metadata": {},
   "outputs": [],
   "source": [
    "# 推論専用のモデルとして保存\n",
    "model.save(model_save_path, include_optimizer=False)"
   ]
  },
  {
   "cell_type": "code",
   "execution_count": 17,
   "metadata": {},
   "outputs": [
    {
     "data": {
      "text/plain": [
       "4224"
      ]
     },
     "execution_count": 17,
     "metadata": {},
     "output_type": "execute_result"
    }
   ],
   "source": [
    "# モデルを変換(量子化)\n",
    "tflite_save_path = 'model/keypoint_classifier/keypoint_classifier.tflite'\n",
    "\n",
    "converter = tf.lite.TFLiteConverter.from_keras_model(model)\n",
    "converter.optimizations = [tf.lite.Optimize.DEFAULT]\n",
    "tflite_quantized_model = converter.convert()\n",
    "\n",
    "open(tflite_save_path, 'wb').write(tflite_quantized_model)"
   ]
  },
  {
   "cell_type": "markdown",
   "metadata": {},
   "source": [
    "# 推論テスト"
   ]
  },
  {
   "cell_type": "code",
   "execution_count": 18,
   "metadata": {},
   "outputs": [],
   "source": [
    "interpreter = tf.lite.Interpreter(model_path=tflite_save_path)\n",
    "interpreter.allocate_tensors()"
   ]
  },
  {
   "cell_type": "code",
   "execution_count": 19,
   "metadata": {},
   "outputs": [],
   "source": [
    "# 入出力テンソルを取得\n",
    "input_details = interpreter.get_input_details()\n",
    "output_details = interpreter.get_output_details()"
   ]
  },
  {
   "cell_type": "code",
   "execution_count": 20,
   "metadata": {},
   "outputs": [],
   "source": [
    "interpreter.set_tensor(input_details[0]['index'], np.array([X_test[0]]))"
   ]
  },
  {
   "cell_type": "code",
   "execution_count": 21,
   "metadata": {
    "scrolled": true
   },
   "outputs": [
    {
     "name": "stdout",
     "output_type": "stream",
     "text": [
      "Wall time: 543 µs\n"
     ]
    }
   ],
   "source": [
    "%%time\n",
    "# 推論実施\n",
    "interpreter.invoke()\n",
    "tflite_results = interpreter.get_tensor(output_details[0]['index'])"
   ]
  },
  {
   "cell_type": "code",
   "execution_count": 22,
   "metadata": {},
   "outputs": [
    {
     "name": "stdout",
     "output_type": "stream",
     "text": [
      "[1. 0. 0.]\n",
      "0\n"
     ]
    }
   ],
   "source": [
    "print(np.squeeze(tflite_results))\n",
    "print(np.argmax(np.squeeze(tflite_results)))"
   ]
  }
 ],
 "metadata": {
  "kernelspec": {
   "display_name": "Python 3 (ipykernel)",
   "language": "python",
   "name": "python3"
  },
  "language_info": {
   "codemirror_mode": {
    "name": "ipython",
    "version": 3
   },
   "file_extension": ".py",
   "mimetype": "text/x-python",
   "name": "python",
   "nbconvert_exporter": "python",
   "pygments_lexer": "ipython3",
   "version": "3.9.13"
  }
 },
 "nbformat": 4,
 "nbformat_minor": 4
}
